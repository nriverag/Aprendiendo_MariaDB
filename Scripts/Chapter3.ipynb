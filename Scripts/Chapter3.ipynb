{
 "cells": [
  {
   "cell_type": "markdown",
   "metadata": {},
   "source": [
    "# THE BASICS AND THE MYSQL CLIENT"
   ]
  },
  {
   "cell_type": "markdown",
   "metadata": {},
   "source": [
    "Estos comandos sirven para pedir ayuda en MySQL"
   ]
  },
  {
   "cell_type": "code",
   "execution_count": 6,
   "metadata": {},
   "outputs": [
    {
     "name": "stderr",
     "output_type": "stream",
     "text": [
      "No delimiter was found in the SQL code\n"
     ]
    }
   ],
   "source": [
    "help contents; "
   ]
  },
  {
   "cell_type": "code",
   "execution_count": 5,
   "metadata": {},
   "outputs": [
    {
     "data": {
      "text/html": [
       "You asked for help about help category: \"Data Manipulation\""
      ]
     },
     "metadata": {},
     "output_type": "display_data"
    }
   ],
   "source": [
    "help Data Manipulation;"
   ]
  },
  {
   "cell_type": "code",
   "execution_count": 8,
   "metadata": {},
   "outputs": [
    {
     "data": {
      "text/html": [
       "Name: 'SHOW DATABASES'"
      ]
     },
     "metadata": {},
     "output_type": "display_data"
    }
   ],
   "source": [
    "help SHOW DATABASES;"
   ]
  },
  {
   "cell_type": "markdown",
   "metadata": {},
   "source": [
    "### Empezando a explorar bases de datos\n"
   ]
  },
  {
   "cell_type": "code",
   "execution_count": 2,
   "metadata": {},
   "outputs": [
    {
     "data": {
      "text/html": [
       "<TABLE BORDER=1><TR><TH>Database</TH></TR><TR><TD>information_schema</TD></TR><TR><TD>mysql</TD></TR><TR><TD>performance_schema</TD></TR></TABLE>"
      ]
     },
     "metadata": {},
     "output_type": "display_data"
    }
   ],
   "source": [
    "SHOW DATABASES;"
   ]
  },
  {
   "cell_type": "markdown",
   "metadata": {},
   "source": [
    "### Primeros comandos de SQL"
   ]
  },
  {
   "cell_type": "code",
   "execution_count": 8,
   "metadata": {},
   "outputs": [
    {
     "name": "stderr",
     "output_type": "stream",
     "text": [
      "ERROR 1050 (42S01): Table 'books' already exists\n"
     ]
    }
   ],
   "source": [
    "CREATE TABLE test.books (book_id INT, title TEXT, status INT);"
   ]
  },
  {
   "cell_type": "code",
   "execution_count": 9,
   "metadata": {},
   "outputs": [
    {
     "data": {
      "text/html": [
       "<TABLE BORDER=1><TR><TH>Tables_in_test</TH></TR><TR><TD>books</TD></TR></TABLE>"
      ]
     },
     "metadata": {},
     "output_type": "display_data"
    }
   ],
   "source": [
    "SHOW TABLES FROM test;"
   ]
  },
  {
   "cell_type": "code",
   "execution_count": 10,
   "metadata": {},
   "outputs": [
    {
     "data": {
      "text/html": []
     },
     "metadata": {},
     "output_type": "display_data"
    }
   ],
   "source": [
    "USE test;"
   ]
  },
  {
   "cell_type": "code",
   "execution_count": 11,
   "metadata": {},
   "outputs": [
    {
     "data": {
      "text/html": [
       "<TABLE BORDER=1><TR><TH>Tables_in_test</TH></TR><TR><TD>books</TD></TR></TABLE>"
      ]
     },
     "metadata": {},
     "output_type": "display_data"
    }
   ],
   "source": [
    "SHOW TABLES;"
   ]
  },
  {
   "cell_type": "code",
   "execution_count": 12,
   "metadata": {},
   "outputs": [
    {
     "data": {
      "text/html": [
       "<TABLE BORDER=1><TR><TH>Field</TH><TH>Type</TH><TH>Null</TH><TH>Key</TH><TH>Default</TH><TH>Extra</TH></TR><TR><TD>book_id</TD><TD>int(11)</TD><TD>YES</TD><TD></TD><TD>NULL</TD><TD></TD></TR><TR><TD>title</TD><TD>text</TD><TD>YES</TD><TD></TD><TD>NULL</TD><TD></TD></TR><TR><TD>status</TD><TD>int(11)</TD><TD>YES</TD><TD></TD><TD>NULL</TD><TD></TD></TR></TABLE>"
      ]
     },
     "metadata": {},
     "output_type": "display_data"
    }
   ],
   "source": [
    "DESCRIBE books;"
   ]
  },
  {
   "cell_type": "markdown",
   "metadata": {},
   "source": [
    "### Inserting and Manipulating Data"
   ]
  },
  {
   "cell_type": "code",
   "execution_count": 13,
   "metadata": {},
   "outputs": [
    {
     "data": {
      "text/html": []
     },
     "metadata": {},
     "output_type": "display_data"
    },
    {
     "data": {
      "text/html": []
     },
     "metadata": {},
     "output_type": "display_data"
    },
    {
     "data": {
      "text/html": []
     },
     "metadata": {},
     "output_type": "display_data"
    }
   ],
   "source": [
    "INSERT INTO books VALUES(100, 'Heart of Darkness', 0);\n",
    "INSERT INTO books VALUES(101, 'The Catcher of the Rye', 1);\n",
    "INSERT INTO books VALUES(102, 'My Antonia', 0);"
   ]
  },
  {
   "cell_type": "code",
   "execution_count": 14,
   "metadata": {},
   "outputs": [
    {
     "data": {
      "text/html": [
       "<TABLE BORDER=1><TR><TH>book_id</TH><TH>title</TH><TH>status</TH></TR><TR><TD>100</TD><TD>Heart of Darkness</TD><TD>0</TD></TR><TR><TD>101</TD><TD>The Catcher of the Rye</TD><TD>1</TD></TR><TR><TD>102</TD><TD>My Antonia</TD><TD>0</TD></TR></TABLE>"
      ]
     },
     "metadata": {},
     "output_type": "display_data"
    }
   ],
   "source": [
    "SELECT * FROM books;"
   ]
  },
  {
   "cell_type": "code",
   "execution_count": 15,
   "metadata": {},
   "outputs": [
    {
     "data": {
      "text/html": [
       "<TABLE BORDER=1><TR><TH>book_id</TH><TH>title</TH><TH>status</TH></TR><TR><TD>101</TD><TD>The Catcher of the Rye</TD><TD>1</TD></TR></TABLE>"
      ]
     },
     "metadata": {},
     "output_type": "display_data"
    }
   ],
   "source": [
    "SELECT * FROM books WHERE status = 1;"
   ]
  },
  {
   "cell_type": "code",
   "execution_count": 18,
   "metadata": {},
   "outputs": [
    {
     "data": {
      "text/html": [
       "<TABLE BORDER=1><TR><TH>book_id</TH><TH>title</TH><TH>status</TH></TR><TR><TD>100</TD><TD>Heart of Darkness</TD><TD>0</TD></TR><TR><TD>102</TD><TD>My Antonia</TD><TD>0</TD></TR></TABLE>"
      ]
     },
     "metadata": {},
     "output_type": "display_data"
    }
   ],
   "source": [
    "SELECT * FROM books WHERE status = 0;"
   ]
  },
  {
   "cell_type": "code",
   "execution_count": 19,
   "metadata": {},
   "outputs": [
    {
     "data": {
      "text/html": []
     },
     "metadata": {},
     "output_type": "display_data"
    }
   ],
   "source": [
    "UPDATE books SET status = 1 WHERE book_id = 102;"
   ]
  },
  {
   "cell_type": "code",
   "execution_count": 20,
   "metadata": {},
   "outputs": [
    {
     "data": {
      "text/html": [
       "<TABLE BORDER=1><TR><TH>book_id</TH><TH>title</TH><TH>status</TH></TR><TR><TD>101</TD><TD>The Catcher of the Rye</TD><TD>1</TD></TR><TR><TD>102</TD><TD>My Antonia</TD><TD>1</TD></TR></TABLE>"
      ]
     },
     "metadata": {},
     "output_type": "display_data"
    }
   ],
   "source": [
    "SELECT * FROM books WHERE status = 1;"
   ]
  },
  {
   "cell_type": "code",
   "execution_count": 21,
   "metadata": {},
   "outputs": [
    {
     "data": {
      "text/html": []
     },
     "metadata": {},
     "output_type": "display_data"
    },
    {
     "data": {
      "text/html": [
       "<TABLE BORDER=1><TR><TH>book_id</TH><TH>title</TH><TH>status</TH></TR><TR><TD>100</TD><TD>Heart of Darkness</TD><TD>0</TD></TR><TR><TD>101</TD><TD>The Catcher of the Rye</TD><TD>0</TD></TR></TABLE>"
      ]
     },
     "metadata": {},
     "output_type": "display_data"
    }
   ],
   "source": [
    "UPDATE books SET status = 0 WHERE book_id = 101;\n",
    "SELECT * FROM books WHERE status = 0;"
   ]
  },
  {
   "cell_type": "code",
   "execution_count": 22,
   "metadata": {},
   "outputs": [
    {
     "data": {
      "text/html": []
     },
     "metadata": {},
     "output_type": "display_data"
    }
   ],
   "source": [
    "UPDATE books\n",
    "SET title = 'The Catcher in the Rye', status = 1\n",
    "WHERE book_id = 101;"
   ]
  },
  {
   "cell_type": "markdown",
   "metadata": {},
   "source": [
    "### A Little Complexity"
   ]
  },
  {
   "cell_type": "code",
   "execution_count": 24,
   "metadata": {},
   "outputs": [
    {
     "data": {
      "text/html": []
     },
     "metadata": {},
     "output_type": "display_data"
    },
    {
     "data": {
      "text/html": []
     },
     "metadata": {},
     "output_type": "display_data"
    }
   ],
   "source": [
    "CREATE TABLE status_names (status_id INT, status_name CHAR(8));\n",
    "INSERT INTO status_names VALUES(0, 'Inactive'), (1,'Active');"
   ]
  },
  {
   "cell_type": "code",
   "execution_count": 25,
   "metadata": {},
   "outputs": [
    {
     "data": {
      "text/html": [
       "<TABLE BORDER=1><TR><TH>Tables_in_test</TH></TR><TR><TD>books</TD></TR><TR><TD>status_names</TD></TR></TABLE>"
      ]
     },
     "metadata": {},
     "output_type": "display_data"
    }
   ],
   "source": [
    "SHOW TABLES;"
   ]
  },
  {
   "cell_type": "code",
   "execution_count": 26,
   "metadata": {},
   "outputs": [
    {
     "data": {
      "text/html": [
       "<TABLE BORDER=1><TR><TH>status_id</TH><TH>status_name</TH></TR><TR><TD>0</TD><TD>Inactive</TD></TR><TR><TD>1</TD><TD>Active</TD></TR></TABLE>"
      ]
     },
     "metadata": {},
     "output_type": "display_data"
    }
   ],
   "source": [
    "SELECT * FROM status_names;"
   ]
  },
  {
   "cell_type": "code",
   "execution_count": 27,
   "metadata": {},
   "outputs": [
    {
     "data": {
      "text/html": [
       "<TABLE BORDER=1><TR><TH>book_id</TH><TH>title</TH><TH>status_name</TH></TR><TR><TD>100</TD><TD>Heart of Darkness</TD><TD>Inactive</TD></TR><TR><TD>101</TD><TD>The Catcher in the Rye</TD><TD>Active</TD></TR><TR><TD>102</TD><TD>My Antonia</TD><TD>Active</TD></TR></TABLE>"
      ]
     },
     "metadata": {},
     "output_type": "display_data"
    }
   ],
   "source": [
    "SELECT book_id, title, status_name\n",
    "FROM books JOIN status_names\n",
    "WHERE status = status_id;"
   ]
  },
  {
   "cell_type": "markdown",
   "metadata": {},
   "source": [
    "### Summary"
   ]
  },
  {
   "cell_type": "markdown",
   "metadata": {},
   "source": [
    "There’s plenty more you can do to explore the simple tables we’ve created, but in this\n",
    "chapter I wanted just to give you an overview of MySQL and MariaDB, and to show\n",
    "you around. The chapters in Part II will delve into details, starting with Chapter 4, which\n",
    "will cover creating tables in detail. Before jumping ahead, you might want to reinforce what you just learned from this\n",
    "chapter. A few exercises follow for you to play some more on your own with the test\n",
    "database and the mysql client. When you’re finished, to exit mysql, type quit or exit,\n",
    "and press the Enter key."
   ]
  }
 ],
 "metadata": {
  "kernelspec": {
   "display_name": "MariaDB",
   "language": "SQL",
   "name": "mariadb_kernel"
  },
  "language_info": {
   "file_extension": ".sql",
   "mimetype": "text/plain",
   "name": "SQL"
  }
 },
 "nbformat": 4,
 "nbformat_minor": 4
}
