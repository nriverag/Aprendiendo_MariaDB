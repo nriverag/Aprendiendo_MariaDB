{
 "cells": [
  {
   "cell_type": "markdown",
   "metadata": {},
   "source": [
    "# Creating Databases and Tables"
   ]
  },
  {
   "cell_type": "markdown",
   "metadata": {},
   "source": [
    "### Creating a Database"
   ]
  },
  {
   "cell_type": "code",
   "execution_count": 1,
   "metadata": {},
   "outputs": [
    {
     "data": {
      "text/html": []
     },
     "metadata": {},
     "output_type": "display_data"
    }
   ],
   "source": [
    "CREATE DATABASE rookery;"
   ]
  },
  {
   "cell_type": "code",
   "execution_count": 2,
   "metadata": {},
   "outputs": [
    {
     "data": {
      "text/html": []
     },
     "metadata": {},
     "output_type": "display_data"
    },
    {
     "data": {
      "text/html": []
     },
     "metadata": {},
     "output_type": "display_data"
    }
   ],
   "source": [
    "DROP DATABASE rookery;\n",
    "CREATE DATABASE rookery\n",
    "CHARACTER SET latin1\n",
    "COLLATE latin1_bin;"
   ]
  },
  {
   "cell_type": "code",
   "execution_count": 3,
   "metadata": {},
   "outputs": [
    {
     "data": {
      "text/html": [
       "<TABLE BORDER=1><TR><TH>Database</TH></TR><TR><TD>information_schema</TD></TR><TR><TD>mysql</TD></TR><TR><TD>performance_schema</TD></TR><TR><TD>rookery</TD></TR><TR><TD>test</TD></TR></TABLE>"
      ]
     },
     "metadata": {},
     "output_type": "display_data"
    }
   ],
   "source": [
    "SHOW DATABASES;"
   ]
  },
  {
   "cell_type": "code",
   "execution_count": 5,
   "metadata": {},
   "outputs": [
    {
     "data": {
      "text/html": []
     },
     "metadata": {},
     "output_type": "display_data"
    }
   ],
   "source": [
    "USE rookery;"
   ]
  },
  {
   "cell_type": "markdown",
   "metadata": {},
   "source": [
    "### Creating Tables"
   ]
  },
  {
   "cell_type": "code",
   "execution_count": 6,
   "metadata": {},
   "outputs": [
    {
     "data": {
      "text/html": []
     },
     "metadata": {},
     "output_type": "display_data"
    }
   ],
   "source": [
    "CREATE TABLE birds (\n",
    "bird_id INT AUTO_INCREMENT PRIMARY KEY,\n",
    "scientific_name VARCHAR(255) UNIQUE,\n",
    "common_name VARCHAR(50),\n",
    "family_id INT,\n",
    "description TEXT);"
   ]
  },
  {
   "cell_type": "code",
   "execution_count": 8,
   "metadata": {},
   "outputs": [
    {
     "data": {
      "text/html": [
       "<TABLE BORDER=1><TR><TH>Field</TH><TH>Type</TH><TH>Null</TH><TH>Key</TH><TH>Default</TH><TH>Extra</TH></TR><TR><TD>bird_id</TD><TD>int(11)</TD><TD>NO</TD><TD>PRI</TD><TD>NULL</TD><TD>auto_increment</TD></TR><TR><TD>scientific_name</TD><TD>varchar(255)</TD><TD>YES</TD><TD>UNI</TD><TD>NULL</TD><TD></TD></TR><TR><TD>common_name</TD><TD>varchar(50)</TD><TD>YES</TD><TD></TD><TD>NULL</TD><TD></TD></TR><TR><TD>family_id</TD><TD>int(11)</TD><TD>YES</TD><TD></TD><TD>NULL</TD><TD></TD></TR><TR><TD>description</TD><TD>text</TD><TD>YES</TD><TD></TD><TD>NULL</TD><TD></TD></TR></TABLE>"
      ]
     },
     "metadata": {},
     "output_type": "display_data"
    }
   ],
   "source": [
    "DESCRIBE birds;"
   ]
  },
  {
   "cell_type": "markdown",
   "metadata": {},
   "source": [
    "### Inserting Data"
   ]
  },
  {
   "cell_type": "code",
   "execution_count": 9,
   "metadata": {},
   "outputs": [
    {
     "data": {
      "text/html": []
     },
     "metadata": {},
     "output_type": "display_data"
    }
   ],
   "source": [
    "INSERT INTO birds (scientific_name, common_name)\n",
    "VALUES ('Charadrius vociferus', 'Killdeer'),\n",
    "('Gavia immer', 'Great Northern Loon'),\n",
    "('Aix sponsa', 'Wood Duck'),\n",
    "('Chordeiles minor', 'Common Nighthawk'),\n",
    "('Sitta carolinensis', ' White-breasted Nuthatch'),\n",
    "('Apteryx mantelli', 'North Island Brown Kiwi');"
   ]
  },
  {
   "cell_type": "code",
   "execution_count": 10,
   "metadata": {},
   "outputs": [
    {
     "data": {
      "text/html": [
       "<TABLE BORDER=1><TR><TH>bird_id</TH><TH>scientific_name</TH><TH>common_name</TH><TH>family_id</TH><TH>description</TH></TR><TR><TD>1</TD><TD>Charadrius vociferus</TD><TD>Killdeer</TD><TD>NULL</TD><TD>NULL</TD></TR><TR><TD>2</TD><TD>Gavia immer</TD><TD>Great Northern Loon</TD><TD>NULL</TD><TD>NULL</TD></TR><TR><TD>3</TD><TD>Aix sponsa</TD><TD>Wood Duck</TD><TD>NULL</TD><TD>NULL</TD></TR><TR><TD>4</TD><TD>Chordeiles minor</TD><TD>Common Nighthawk</TD><TD>NULL</TD><TD>NULL</TD></TR><TR><TD>5</TD><TD>Sitta carolinensis</TD><TD> White-breasted Nuthatch</TD><TD>NULL</TD><TD>NULL</TD></TR><TR><TD>6</TD><TD>Apteryx mantelli</TD><TD>North Island Brown Kiwi</TD><TD>NULL</TD><TD>NULL</TD></TR></TABLE>"
      ]
     },
     "metadata": {},
     "output_type": "display_data"
    }
   ],
   "source": [
    "SELECT * FROM birds;"
   ]
  },
  {
   "cell_type": "code",
   "execution_count": 27,
   "metadata": {},
   "outputs": [
    {
     "data": {
      "text/html": []
     },
     "metadata": {},
     "output_type": "display_data"
    },
    {
     "data": {
      "text/html": []
     },
     "metadata": {},
     "output_type": "display_data"
    }
   ],
   "source": [
    "CREATE DATABASE birdwatchers;\n",
    "CREATE TABLE birdwatchers.humans\n",
    "(human_id INT AUTO_INCREMENT PRIMARY KEY,\n",
    "formal_title VARCHAR(25),\n",
    "name_first VARCHAR(25),\n",
    "name_last VARCHAR(25),\n",
    "email_address VARCHAR(255));"
   ]
  },
  {
   "cell_type": "code",
   "execution_count": 28,
   "metadata": {},
   "outputs": [
    {
     "data": {
      "text/html": [
       "<TABLE BORDER=1><TR><TH>Field</TH><TH>Type</TH><TH>Null</TH><TH>Key</TH><TH>Default</TH><TH>Extra</TH></TR><TR><TD>human_id</TD><TD>int(11)</TD><TD>NO</TD><TD>PRI</TD><TD>NULL</TD><TD>auto_increment</TD></TR><TR><TD>formal_title</TD><TD>varchar(25)</TD><TD>YES</TD><TD></TD><TD>NULL</TD><TD></TD></TR><TR><TD>name_first</TD><TD>varchar(25)</TD><TD>YES</TD><TD></TD><TD>NULL</TD><TD></TD></TR><TR><TD>name_last</TD><TD>varchar(25)</TD><TD>YES</TD><TD></TD><TD>NULL</TD><TD></TD></TR><TR><TD>email_address</TD><TD>varchar(255)</TD><TD>YES</TD><TD></TD><TD>NULL</TD><TD></TD></TR></TABLE>"
      ]
     },
     "metadata": {},
     "output_type": "display_data"
    }
   ],
   "source": [
    "DESCRIBE birdwatchers.humans;"
   ]
  },
  {
   "cell_type": "code",
   "execution_count": 29,
   "metadata": {},
   "outputs": [
    {
     "name": "stderr",
     "output_type": "stream",
     "text": [
      "ERROR 1136 (21S01): Column count doesn't match value count at row 1\n"
     ]
    }
   ],
   "source": [
    "INSERT INTO birdwatchers.humans\n",
    "(name_first, name_last, email_address)\n",
    "VALUES\n",
    "('Mr.', 'Russell', 'Dyer', 'russell@mysqlresources.com'),\n",
    "('Mr.', 'Richard', 'Stringer', 'richard@mysqlresources.com'),\n",
    "('Ms.', 'Rusty', 'Osborne', 'rusty@mysqlresources.com'),\n",
    "('Ms.', 'Lexi', 'Hollar', 'alexandra@mysqlresources.com');"
   ]
  },
  {
   "cell_type": "markdown",
   "metadata": {},
   "source": [
    "### More Perspectives on Tables"
   ]
  },
  {
   "cell_type": "code",
   "execution_count": 30,
   "metadata": {},
   "outputs": [
    {
     "data": {
      "text/html": [
       "<TABLE BORDER=1><TR><TH>Table</TH><TH>Create Table</TH></TR><TR><TD>birds</TD><TD>CREATE TABLE `birds` ("
      ]
     },
     "metadata": {},
     "output_type": "display_data"
    }
   ],
   "source": [
    "SHOW CREATE TABLE birds;"
   ]
  },
  {
   "cell_type": "code",
   "execution_count": 31,
   "metadata": {},
   "outputs": [
    {
     "data": {
      "text/html": []
     },
     "metadata": {},
     "output_type": "display_data"
    }
   ],
   "source": [
    "CREATE TABLE bird_families (\n",
    "family_id INT AUTO_INCREMENT PRIMARY KEY,\n",
    "scientific_name VARCHAR(255) UNIQUE,\n",
    "brief_description VARCHAR(255) );"
   ]
  },
  {
   "cell_type": "code",
   "execution_count": 32,
   "metadata": {},
   "outputs": [
    {
     "data": {
      "text/html": []
     },
     "metadata": {},
     "output_type": "display_data"
    }
   ],
   "source": [
    "CREATE TABLE bird_orders (\n",
    "order_id INT AUTO_INCREMENT PRIMARY KEY,\n",
    "scientific_name VARCHAR(255) UNIQUE,\n",
    "brief_description VARCHAR(255),\n",
    "order_image BLOB\n",
    ") DEFAULT CHARSET=utf8 COLLATE=utf8_general_ci;"
   ]
  },
  {
   "cell_type": "markdown",
   "metadata": {},
   "source": [
    "### Summary"
   ]
  },
  {
   "cell_type": "markdown",
   "metadata": {},
   "source": [
    "You have many more possibilities when creating tables. There are options for setting\n",
    "different types of storage engines. We touched on that in this chapter, but there’s much\n",
    "more to that. You can also create some tables with certain storage engines that will allow\n",
    "you to partition the data across different locations on the server’s hard drives. The storage\n",
    "engine can have an impact on the table’s performance. Some options and settings\n",
    "are rarely used, but they’re there for a reason. For now, we’ve covered enough options\n",
    "and possibilities when creating tables.\n",
    "What we have covered in this chapter may actually be a bit overwhelming, especially\n",
    "the notion of reference tables like bird_families and bird_orders. Their purpose\n",
    "should become clearer in time. Chapter 5 provides some clarification on tables, and will\n",
    "show you how to alter them. There are additional examples of inserting and selecting\n",
    "data interspersed throughout that chapter. Before moving on, make sure to complete\n",
    "the exercises in the following section. They should help you to better understand how\n",
    "tables work and are used."
   ]
  }
 ],
 "metadata": {
  "kernelspec": {
   "display_name": "MariaDB",
   "language": "SQL",
   "name": "mariadb_kernel"
  },
  "language_info": {
   "file_extension": ".sql",
   "mimetype": "text/plain",
   "name": "SQL"
  }
 },
 "nbformat": 4,
 "nbformat_minor": 4
}
