{
 "cells": [
  {
   "cell_type": "markdown",
   "metadata": {},
   "source": [
    "# Joining and Subquerying Data"
   ]
  },
  {
   "cell_type": "markdown",
   "metadata": {},
   "source": [
    "### Unifying Results"
   ]
  },
  {
   "cell_type": "code",
   "execution_count": 3,
   "metadata": {},
   "outputs": [
    {
     "data": {
      "text/html": [
       "<TABLE BORDER=1><TR><TH>Database</TH></TR><TR><TD>birdwatchers</TD></TR><TR><TD>information_schema</TD></TR><TR><TD>mysql</TD></TR><TR><TD>performance_schema</TD></TR><TR><TD>rookery</TD></TR><TR><TD>test</TD></TR></TABLE>"
      ]
     },
     "metadata": {},
     "output_type": "display_data"
    },
    {
     "data": {
      "text/html": []
     },
     "metadata": {},
     "output_type": "display_data"
    }
   ],
   "source": [
    "SHOW DATABASES;\n",
    "USE rookery;"
   ]
  },
  {
   "cell_type": "code",
   "execution_count": 4,
   "metadata": {},
   "outputs": [
    {
     "name": "stderr",
     "output_type": "stream",
     "text": [
      "ERROR 1064 (42000): You have an error in your SQL syntax; check the manual that corresponds to your MariaDB server version for the right syntax to use near 'ND families.scientific_name = 'Pelecanidae' UNION SELECT 'Ardeidae', COUNT(*)...' at line 1\n"
     ]
    }
   ],
   "source": [
    "SELECT 'Pelecanidae' AS 'Family',\n",
    "COUNT(*) AS 'Species'\n",
    "FROM birds, bird_families AS families\n",
    "WHERE birds.family_id = families.family_id\n",
    "ND families.scientific_name = 'Pelecanidae'\n",
    "UNION\n",
    "SELECT 'Ardeidae',\n",
    "COUNT(*)\n",
    "FROM birds, bird_families AS families\n",
    "WHERE birds.family_id = families.family_id\n",
    "AND families.scientific_name = 'Ardeidae';"
   ]
  },
  {
   "cell_type": "code",
   "execution_count": 5,
   "metadata": {},
   "outputs": [
    {
     "name": "stderr",
     "output_type": "stream",
     "text": [
      "ERROR 1064 (42000): You have an error in your SQL syntax; check the manual that corresponds to your MariaDB server version for the right syntax to use near 'ROUP BY families.family_id UNION SELECT families.scientific_name, COUNT(*) FR...' at line 1\n"
     ]
    }
   ],
   "source": [
    "SELECT families.scientific_name AS 'Family',\n",
    "COUNT(*) AS 'Species'\n",
    "FROM birds, bird_families AS families, bird_orders AS orders\n",
    "WHERE birds.family_id = families.family_id\n",
    "AND families.order_id = orders.order_id\n",
    "AND orders.scientific_name = 'Pelecaniformes'\n",
    "ROUP BY families.family_id\n",
    "UNION\n",
    "SELECT families.scientific_name, COUNT(*)\n",
    "FROM birds, bird_families AS families, bird_orders AS orders\n",
    "WHERE birds.family_id = families.family_id\n",
    "AND families.order_id = orders.order_id\n",
    "AND orders.scientific_name = 'Suliformes'\n",
    "GROUP BY families.family_id;"
   ]
  },
  {
   "cell_type": "code",
   "execution_count": 6,
   "metadata": {},
   "outputs": [
    {
     "name": "stderr",
     "output_type": "stream",
     "text": [
      "ERROR 1064 (42000): You have an error in your SQL syntax; check the manual that corresponds to your MariaDB server version for the right syntax to use near 'ELECT * FROM ( SELECT families.scientific_name AS 'Family', COUNT(*) AS 'Spec...' at line 1\n"
     ]
    }
   ],
   "source": [
    "ELECT * FROM\n",
    "(\n",
    "SELECT families.scientific_name AS 'Family',\n",
    "COUNT(*) AS 'Species',\n",
    "orders.scientific_name AS 'Order'\n",
    "FROM birds, bird_families AS families, bird_orders AS orders\n",
    "WHERE birds.family_id = families.family_id\n",
    "AND families.order_id = orders.order_id\n",
    "AND orders.scientific_name = 'Pelecaniformes'\n",
    "GROUP BY families.family_id\n",
    "UNION\n",
    "SELECT families.scientific_name, COUNT(*), orders.scientific_name\n",
    "FROM birds, bird_families AS families, bird_orders AS orders\n",
    "WHERE birds.family_id = families.family_id\n",
    "AND families.order_id = orders.order_id\n",
    "AND orders.scientific_name = 'Suliformes'\n",
    "GROUP BY families.family_id ) AS derived_1\n",
    "ORDER BY Family;"
   ]
  },
  {
   "cell_type": "markdown",
   "metadata": {},
   "source": [
    "### Joining Tables"
   ]
  },
  {
   "cell_type": "code",
   "execution_count": 8,
   "metadata": {},
   "outputs": [
    {
     "data": {
      "text/html": []
     },
     "metadata": {},
     "output_type": "display_data"
    }
   ],
   "source": [
    "USE test;"
   ]
  },
  {
   "cell_type": "code",
   "execution_count": 9,
   "metadata": {},
   "outputs": [
    {
     "data": {
      "text/html": [
       "<TABLE BORDER=1><TR><TH>book_id</TH><TH>title</TH><TH>status_name</TH></TR><TR><TD>100</TD><TD>Heart of Darkness</TD><TD>Inactive</TD></TR><TR><TD>101</TD><TD>The Catcher in the Rye</TD><TD>Active</TD></TR><TR><TD>102</TD><TD>My Antonia</TD><TD>Active</TD></TR></TABLE>"
      ]
     },
     "metadata": {},
     "output_type": "display_data"
    }
   ],
   "source": [
    "SELECT book_id, title, status_name\n",
    "FROM books JOIN status_names\n",
    "WHERE status = status_id;"
   ]
  },
  {
   "cell_type": "code",
   "execution_count": 10,
   "metadata": {},
   "outputs": [
    {
     "data": {
      "text/html": [
       "<TABLE BORDER=1><TR><TH>book_id</TH><TH>title</TH><TH>status_name</TH></TR><TR><TD>100</TD><TD>Heart of Darkness</TD><TD>Inactive</TD></TR><TR><TD>101</TD><TD>The Catcher in the Rye</TD><TD>Active</TD></TR><TR><TD>102</TD><TD>My Antonia</TD><TD>Active</TD></TR></TABLE>"
      ]
     },
     "metadata": {},
     "output_type": "display_data"
    }
   ],
   "source": [
    "SELECT book_id, title, status_name\n",
    "FROM books\n",
    "JOIN status_names ON(status = status_id);"
   ]
  },
  {
   "cell_type": "code",
   "execution_count": 11,
   "metadata": {},
   "outputs": [
    {
     "name": "stderr",
     "output_type": "stream",
     "text": [
      "ERROR 1054 (42S22): Unknown column 'status_id' in 'from clause'\n"
     ]
    }
   ],
   "source": [
    "SELECT book_id, title, status_name\n",
    "FROM books\n",
    "JOIN status_names USING(status_id);"
   ]
  },
  {
   "cell_type": "markdown",
   "metadata": {},
   "source": [
    "### Selecting a Basic Join"
   ]
  },
  {
   "cell_type": "code",
   "execution_count": 20,
   "metadata": {},
   "outputs": [
    {
     "data": {
      "text/html": []
     },
     "metadata": {},
     "output_type": "display_data"
    },
    {
     "name": "stderr",
     "output_type": "stream",
     "text": [
      "ERROR 1054 (42S22): Unknown column 'birds.conservation_status_id' in 'on clause'\n"
     ]
    }
   ],
   "source": [
    "USE rookery;\n",
    "SELECT common_name, conservation_state\n",
    "FROM birds\n",
    "JOIN conservation_status\n",
    "ON(birds.conservation_status_id = conservation_status.conservation_status_id)\n",
    "WHERE conservation_category = 'Threatened'\n",
    "AND common_name LIKE '%Goose%';"
   ]
  },
  {
   "cell_type": "code",
   "execution_count": 21,
   "metadata": {},
   "outputs": [
    {
     "name": "stderr",
     "output_type": "stream",
     "text": [
      "ERROR 1054 (42S22): Unknown column 'birds.conservation_status_id' in 'on clause'\n"
     ]
    }
   ],
   "source": [
    "SELECT common_name, conservation_state\n",
    "FROM birds\n",
    "JOIN conservation_status\n",
    "ON(birds.conservation_status_id = conservation_status.conservation_status_id)\n",
    "WHERE conservation_category = 'Threatened'\n",
    "AND common_name LIKE '%Goose%';"
   ]
  },
  {
   "cell_type": "code",
   "execution_count": 22,
   "metadata": {},
   "outputs": [
    {
     "name": "stderr",
     "output_type": "stream",
     "text": [
      "ERROR 1054 (42S22): Unknown column 'conservation_status_id' in 'from clause'\n"
     ]
    }
   ],
   "source": [
    "SELECT common_name, conservation_state\n",
    "FROM birds\n",
    "JOIN conservation_status\n",
    "USING(conservation_status_id)\n",
    "WHERE conservation_category = 'Threatened'\n",
    "AND common_name LIKE '%Goose%';"
   ]
  },
  {
   "cell_type": "code",
   "execution_count": 23,
   "metadata": {},
   "outputs": [
    {
     "name": "stderr",
     "output_type": "stream",
     "text": [
      "ERROR 1146 (42S02): Table 'birdwatchers.bird_sightings' doesn't exist\n"
     ]
    }
   ],
   "source": [
    "SELECT CONCAT(name_first, ' ', name_last) AS Birder,\n",
    "common_name AS Bird, location_gps AS 'Location of Sighting'\n",
    "FROM birdwatchers.humans\n",
    "JOIN birdwatchers.bird_sightings USING(human_id)\n",
    "JOIN rookery.birds USING(bird_id)\n",
    "JOIN rookery.bird_families USING(family_id)\n",
    "WHERE country_id = 'ru'\n",
    "AND bird_families.scientific_name = 'Scolopacidae'\n",
    "ORDER BY Birder;"
   ]
  },
  {
   "cell_type": "code",
   "execution_count": 25,
   "metadata": {},
   "outputs": [
    {
     "name": "stderr",
     "output_type": "stream",
     "text": [
      "ERROR 1054 (42S22): Unknown column 'conservation_status_id' in 'from clause'\n"
     ]
    }
   ],
   "source": [
    "SELECT common_name AS 'Bird',\n",
    "conservation_state AS 'Status'\n",
    "FROM birds\n",
    "LEFT JOIN conservation_status USING(conservation_status_id)\n",
    "WHERE common_name LIKE '%Egret%';"
   ]
  },
  {
   "cell_type": "markdown",
   "metadata": {},
   "source": [
    "### Summary"
   ]
  },
  {
   "cell_type": "markdown",
   "metadata": {},
   "source": [
    "Many developers prefer subqueries—I do. They’re easier to construct and decipher\n",
    "when you have problems later. If you work on a database that is very large and has a\n",
    "huge amount of activity, subqueries may not be a good choice because they can some‐\n",
    "times affect performance. For small databases, though, they’re fine. You should learn to\n",
    "use subqueries and learn how to work without them (i.e, use JOIN ) so you can handle\n",
    "any situation presented to you. You cannot be sure which method your next employer\n",
    "and team of developers may being using. It’s best to be versatile.\n",
    "As for learning to use JOIN , that’s hardly optional. Very few developers don’t use JOIN .\n",
    "Even if you prefer subqueries, they still call for JOIN . You can see this in almost all of\n",
    "the examples of subqueries in this chapter. You may rarely use UNION . But there’s not\n",
    "much to learn there. However, you should be proficient in using JOIN . So don’t avoid\n",
    "them; practice manually entering SQL statements that use them. The act of typing them\n",
    "helps."
   ]
  },
  {
   "cell_type": "code",
   "execution_count": null,
   "metadata": {},
   "outputs": [],
   "source": []
  }
 ],
 "metadata": {
  "kernelspec": {
   "display_name": "MariaDB",
   "language": "SQL",
   "name": "mariadb_kernel"
  },
  "language_info": {
   "file_extension": ".sql",
   "mimetype": "text/plain",
   "name": "SQL"
  }
 },
 "nbformat": 4,
 "nbformat_minor": 4
}
