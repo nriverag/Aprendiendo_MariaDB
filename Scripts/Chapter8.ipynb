{
 "cells": [
  {
   "cell_type": "markdown",
   "metadata": {},
   "source": [
    "# Updating and Deleting Data"
   ]
  },
  {
   "cell_type": "markdown",
   "metadata": {},
   "source": [
    "### Updating Data"
   ]
  },
  {
   "cell_type": "code",
   "execution_count": 1,
   "metadata": {},
   "outputs": [
    {
     "name": "stderr",
     "output_type": "stream",
     "text": [
      "ERROR 1064 (42000): You have an error in your SQL syntax; check the manual that corresponds to your MariaDB server version for the right syntax to use near 'table SET column = value, ...' at line 1\n"
     ]
    }
   ],
   "source": [
    "UPDATE table\n",
    "SET column = value, ... ;"
   ]
  },
  {
   "cell_type": "code",
   "execution_count": 2,
   "metadata": {},
   "outputs": [
    {
     "name": "stderr",
     "output_type": "stream",
     "text": [
      "ERROR 1054 (42S22): Unknown column 'country_id' in 'field list'\n"
     ]
    }
   ],
   "source": [
    "UPDATE birdwatchers.humans\n",
    "SET country_id = 'us';"
   ]
  },
  {
   "cell_type": "code",
   "execution_count": 3,
   "metadata": {},
   "outputs": [
    {
     "data": {
      "text/html": []
     },
     "metadata": {},
     "output_type": "display_data"
    }
   ],
   "source": [
    "USE birdwatchers;"
   ]
  },
  {
   "cell_type": "markdown",
   "metadata": {},
   "source": [
    "### Updating Specific Rows"
   ]
  },
  {
   "cell_type": "code",
   "execution_count": 4,
   "metadata": {},
   "outputs": [
    {
     "data": {
      "text/html": []
     },
     "metadata": {},
     "output_type": "display_data"
    }
   ],
   "source": [
    "SELECT human_id, name_first, name_last\n",
    "FROM humans\n",
    "WHERE name_first = 'Rusty'\n",
    "AND name_last = 'Osborne';"
   ]
  },
  {
   "cell_type": "code",
   "execution_count": 5,
   "metadata": {},
   "outputs": [
    {
     "data": {
      "text/html": []
     },
     "metadata": {},
     "output_type": "display_data"
    },
    {
     "data": {
      "text/html": []
     },
     "metadata": {},
     "output_type": "display_data"
    }
   ],
   "source": [
    "UPDATE humans\n",
    "SET name_last = 'Johnson'\n",
    "WHERE human_id = 3;\n",
    "SELECT human_id, name_first, name_last\n",
    "FROM humans\n",
    "WHERE human_id = 3;"
   ]
  },
  {
   "cell_type": "code",
   "execution_count": 6,
   "metadata": {},
   "outputs": [
    {
     "data": {
      "text/html": []
     },
     "metadata": {},
     "output_type": "display_data"
    }
   ],
   "source": [
    "UPDATE humans\n",
    "SET formal_title = 'Ms.'\n",
    "WHERE human_id IN(24, 32);"
   ]
  },
  {
   "cell_type": "code",
   "execution_count": 7,
   "metadata": {},
   "outputs": [
    {
     "data": {
      "text/html": [
       "<TABLE BORDER=1><TR><TH>Field</TH><TH>Type</TH><TH>Collation</TH><TH>Null</TH><TH>Key</TH><TH>Default</TH><TH>Extra</TH><TH>Privileges</TH><TH>Comment</TH></TR><TR><TD>formal_title</TD><TD>varchar(25)</TD><TD>utf8mb4_general_ci</TD><TD>YES</TD><TD></TD><TD>NULL</TD><TD></TD><TD>select,insert,update,references</TD><TD></TD></TR></TABLE>"
      ]
     },
     "metadata": {},
     "output_type": "display_data"
    }
   ],
   "source": [
    "SHOW FULL COLUMNS\n",
    "FROM humans\n",
    "LIKE 'formal_title';"
   ]
  },
  {
   "cell_type": "code",
   "execution_count": 9,
   "metadata": {},
   "outputs": [
    {
     "data": {
      "text/html": []
     },
     "metadata": {},
     "output_type": "display_data"
    },
    {
     "name": "stderr",
     "output_type": "stream",
     "text": [
      "ERROR 1064 (42000): You have an error in your SQL syntax; check the manual that corresponds to your MariaDB server version for the right syntax to use near 'Now that all of the members have either a val' at line 1\n"
     ]
    }
   ],
   "source": [
    "UPDATE humans\n",
    "SET formal_title = 'Ms.'\n",
    "WHERE formal_title IN('Miss','Mrs.');\n",
    "Now that all of the members have either a val;"
   ]
  },
  {
   "cell_type": "code",
   "execution_count": 10,
   "metadata": {},
   "outputs": [
    {
     "data": {
      "text/html": [
       "Stage: 2 of 2 'Enabling keys'      0% of stage done\r",
       "                                                   \r"
      ]
     },
     "metadata": {},
     "output_type": "display_data"
    }
   ],
   "source": [
    "ALTER TABLE humans\n",
    "CHANGE COLUMN formal_title formal_title ENUM('Mr.','Ms.');"
   ]
  },
  {
   "cell_type": "code",
   "execution_count": 11,
   "metadata": {},
   "outputs": [
    {
     "data": {
      "text/html": []
     },
     "metadata": {},
     "output_type": "display_data"
    }
   ],
   "source": [
    "SHOW WARNINGS;"
   ]
  },
  {
   "cell_type": "code",
   "execution_count": 12,
   "metadata": {},
   "outputs": [
    {
     "data": {
      "text/html": []
     },
     "metadata": {},
     "output_type": "display_data"
    },
    {
     "data": {
      "text/html": []
     },
     "metadata": {},
     "output_type": "display_data"
    },
    {
     "data": {
      "text/html": [
       "Stage: 2 of 2 'Enabling keys'      0% of stage done\r",
       "                                                   \r"
      ]
     },
     "metadata": {},
     "output_type": "display_data"
    }
   ],
   "source": [
    "ALTER TABLE humans\n",
    "CHANGE COLUMN formal_title formal_title ENUM('Mr.','Ms.','Mr','Ms');\n",
    "UPDATE humans\n",
    "SET formal_title = SUBSTRING(formal_title, 1, 2);\n",
    "ALTER TABLE humans\n",
    "CHANGE COLUMN formal_title formal_title ENUM('Mr','Ms');"
   ]
  },
  {
   "cell_type": "markdown",
   "metadata": {},
   "source": [
    "### Limiting Updates"
   ]
  },
  {
   "cell_type": "code",
   "execution_count": 13,
   "metadata": {},
   "outputs": [
    {
     "data": {
      "text/html": []
     },
     "metadata": {},
     "output_type": "display_data"
    }
   ],
   "source": [
    "CREATE TABLE prize_winners\n",
    "(winner_id INT AUTO_INCREMENT PRIMARY KEY,\n",
    "human_id INT,\n",
    "winner_date DATE,\n",
    "prize_chosen VARCHAR(255),\n",
    "prize_sent DATE);"
   ]
  },
  {
   "cell_type": "code",
   "execution_count": 14,
   "metadata": {},
   "outputs": [
    {
     "data": {
      "text/html": []
     },
     "metadata": {},
     "output_type": "display_data"
    }
   ],
   "source": [
    "INSERT INTO prize_winners\n",
    "(human_id)\n",
    "SELECT human_id\n",
    "FROM humans;"
   ]
  },
  {
   "cell_type": "markdown",
   "metadata": {},
   "source": [
    "### Ordering to Make a Difference"
   ]
  },
  {
   "cell_type": "code",
   "execution_count": 15,
   "metadata": {},
   "outputs": [
    {
     "data": {
      "text/html": []
     },
     "metadata": {},
     "output_type": "display_data"
    }
   ],
   "source": [
    "UPDATE prize_winners\n",
    "SET winner_date = CURDATE()\n",
    "WHERE winner_date IS NULL\n",
    "ORDER BY RAND()\n",
    "LIMIT 2;"
   ]
  },
  {
   "cell_type": "markdown",
   "metadata": {},
   "source": [
    "### Updating Multiple Tables"
   ]
  },
  {
   "cell_type": "code",
   "execution_count": 16,
   "metadata": {},
   "outputs": [
    {
     "name": "stderr",
     "output_type": "stream",
     "text": [
      "ERROR 1054 (42S22): Unknown column 'country_id' in 'where clause'\n"
     ]
    }
   ],
   "source": [
    "UPDATE prize_winners, humans\n",
    "SET winner_date = NULL,\n",
    "prize_chosen = NULL,\n",
    "prize_sent = NULL\n",
    "WHERE country_id = 'uk'\n",
    "AND prize_winners.human_id = humans.human_id;"
   ]
  },
  {
   "cell_type": "code",
   "execution_count": 17,
   "metadata": {},
   "outputs": [
    {
     "name": "stderr",
     "output_type": "stream",
     "text": [
      "ERROR 1054 (42S22): Unknown column 'country_id' in 'where clause'\n"
     ]
    }
   ],
   "source": [
    "UPDATE prize_winners, humans\n",
    "SET winner_date = CURDATE()\n",
    "WHERE winner_date IS NULL\n",
    "AND country_id = 'uk'\n",
    "AND prize_winners.human_id = humans.human_id\n",
    "ORDER BY RAND()\n",
    "LIMIT 2;"
   ]
  },
  {
   "cell_type": "code",
   "execution_count": 18,
   "metadata": {},
   "outputs": [
    {
     "name": "stderr",
     "output_type": "stream",
     "text": [
      "ERROR 1054 (42S22): Unknown column 'country_id' in 'where clause'\n"
     ]
    }
   ],
   "source": [
    "UPDATE prize_winners\n",
    "SET winner_date = CURDATE()\n",
    "WHERE winner_date IS NULL\n",
    "AND human_id IN\n",
    "(SELECT human_id\n",
    "FROM humans\n",
    "WHERE country_id = 'uk'\n",
    "ORDER BY RAND())\n",
    "LIMIT 2;"
   ]
  },
  {
   "cell_type": "markdown",
   "metadata": {},
   "source": [
    "### Handling Duplicates"
   ]
  },
  {
   "cell_type": "code",
   "execution_count": 19,
   "metadata": {},
   "outputs": [
    {
     "data": {
      "text/html": []
     },
     "metadata": {},
     "output_type": "display_data"
    }
   ],
   "source": [
    "ALTER TABLE humans\n",
    "ADD COLUMN better_birders_site TINYINT DEFAULT 0;"
   ]
  },
  {
   "cell_type": "code",
   "execution_count": 20,
   "metadata": {},
   "outputs": [
    {
     "data": {
      "text/html": []
     },
     "metadata": {},
     "output_type": "display_data"
    }
   ],
   "source": [
    "INSERT INTO humans\n",
    "(formal_title, name_first, name_last, email_address, better_birders_site)\n",
    "VALUES('Mr','Barry','Pilson', 'barry@gomail.com', 1),\n",
    "('Ms','Lexi','Hollar', 'alexandra@mysqlresources.com', 1),\n",
    "('Mr','Ricky','Adams', 'ricky@gomail.com', 1)\n",
    "ON DUPLICATE KEY\n",
    "UPDATE better_birders_site = 2;"
   ]
  },
  {
   "cell_type": "code",
   "execution_count": 21,
   "metadata": {},
   "outputs": [
    {
     "data": {
      "text/html": []
     },
     "metadata": {},
     "output_type": "display_data"
    }
   ],
   "source": [
    "INSERT INTO prize_winners\n",
    "(human_id)\n",
    "SELECT human_id\n",
    "FROM humans\n",
    "WHERE better_birders_site = 1;"
   ]
  },
  {
   "cell_type": "code",
   "execution_count": 22,
   "metadata": {},
   "outputs": [
    {
     "data": {
      "text/html": []
     },
     "metadata": {},
     "output_type": "display_data"
    },
    {
     "data": {
      "text/html": []
     },
     "metadata": {},
     "output_type": "display_data"
    }
   ],
   "source": [
    "ALTER TABLE humans\n",
    "ADD COLUMN possible_duplicate TINYINT DEFAULT 0;\n",
    "CREATE TEMPORARY TABLE possible_duplicates\n",
    "(name_1 varchar(25), name_2 varchar(25));"
   ]
  },
  {
   "cell_type": "code",
   "execution_count": 23,
   "metadata": {},
   "outputs": [
    {
     "data": {
      "text/html": []
     },
     "metadata": {},
     "output_type": "display_data"
    }
   ],
   "source": [
    "INSERT INTO possible_duplicates\n",
    "SELECT name_first, name_last\n",
    "FROM\n",
    "(SELECT name_first, name_last, COUNT(*) AS nbr_entries\n",
    "FROM humans\n",
    "GROUP BY name_first, name_last) AS derived_table\n",
    "WHERE nbr_entries > 1;"
   ]
  },
  {
   "cell_type": "code",
   "execution_count": 24,
   "metadata": {},
   "outputs": [
    {
     "data": {
      "text/html": []
     },
     "metadata": {},
     "output_type": "display_data"
    }
   ],
   "source": [
    "UPDATE humans, possible_duplicates\n",
    "SET possible_duplicate = 1\n",
    "WHERE name_first = name_1\n",
    "AND name_last = name_2;"
   ]
  },
  {
   "cell_type": "markdown",
   "metadata": {},
   "source": [
    "### Deleting Data"
   ]
  },
  {
   "cell_type": "code",
   "execution_count": 26,
   "metadata": {},
   "outputs": [
    {
     "name": "stderr",
     "output_type": "stream",
     "text": [
      "ERROR 1064 (42000): You have an error in your SQL syntax; check the manual that corresponds to your MariaDB server version for the right syntax to use near '[WHERE [ORDER [LIMIT FROM table condition] BY column] row_count]' at line 1\n"
     ]
    }
   ],
   "source": [
    "DELETE\n",
    "[WHERE\n",
    "[ORDER\n",
    "[LIMIT\n",
    "FROM table\n",
    "condition]\n",
    "BY column]\n",
    "row_count];"
   ]
  },
  {
   "cell_type": "code",
   "execution_count": 27,
   "metadata": {},
   "outputs": [
    {
     "data": {
      "text/html": []
     },
     "metadata": {},
     "output_type": "display_data"
    }
   ],
   "source": [
    "DELETE FROM humans\n",
    "WHERE name_first = 'Elena'\n",
    "AND name_last = 'Bokova'\n",
    "AND email_address LIKE '%yahoo.com';"
   ]
  },
  {
   "cell_type": "markdown",
   "metadata": {},
   "source": [
    "### Deleting in Multiple Tables"
   ]
  },
  {
   "cell_type": "code",
   "execution_count": 28,
   "metadata": {},
   "outputs": [
    {
     "name": "stderr",
     "output_type": "stream",
     "text": [
      "ERROR 1064 (42000): You have an error in your SQL syntax; check the manual that corresponds to your MariaDB server version for the right syntax to use near 'table[, table] USING table[, . . . ] [WHERE condition]' at line 1\n"
     ]
    }
   ],
   "source": [
    "DELETE FROM table[, table]\n",
    "USING table[, . . . ]\n",
    "[WHERE condition];"
   ]
  },
  {
   "cell_type": "code",
   "execution_count": 29,
   "metadata": {},
   "outputs": [
    {
     "data": {
      "text/html": []
     },
     "metadata": {},
     "output_type": "display_data"
    }
   ],
   "source": [
    "DELETE FROM humans, prize_winners\n",
    "USING humans JOIN prize_winners\n",
    "WHERE name_first = 'Elena'\n",
    "AND name_last = 'Bokova'\n",
    "AND email_address LIKE '%yahoo.com'\n",
    "AND humans.human_id = prize_winners.human_id;"
   ]
  },
  {
   "cell_type": "markdown",
   "metadata": {},
   "source": [
    "### Summary"
   ]
  },
  {
   "cell_type": "markdown",
   "metadata": {},
   "source": [
    "The UPDATE and DELETE statements are very useful for changing data in tables; they are\n",
    "essential to managing a MySQL or MariaDB database. They have many possibilities for\n",
    "effecting changes to tables with ease. You can construct very complex SQL statements\n",
    "with them to change precisely the data you want to change or to delete exactly the rows\n",
    "you want to delete. However, it can be confusing and difficult at times. So be careful and\n",
    "learn these SQL statements well.\n",
    "If you’re nervous at times about using the UPDATE and DELETE statements, it’s because\n",
    "you should be. You can change all of the rows in a table with one UPDATE statement, and\n",
    "you can delete all of the rows in a table with one DELETE statement. On a huge database,\n",
    "that could be thousands of rows of data changed or deleted in seconds. This is why good\n",
    "backups are always necessary. Whenever using these two SQL statements, take your\n",
    "time to be sure you’re right before you execute them. While you’re still learning espe‐\n",
    "cially, it can be a good idea to make a duplicate of a table with its data using the CREATE\n",
    "TABLE...SELECT statement before updating or deleting data. This SQL statement was\n",
    "covered in “Essential Changes” on page 61. This way if you make a major mistake, you\n",
    "can put the data back as it was before you started.\n",
    "Because of the problems you can cause yourself and others who will use the databases\n",
    "on which you will work, practice using the UPDATE and DELETE statements. More than\n",
    "any other chapter in this book so far, you should make sure to complete the exercises\n",
    "in the next section."
   ]
  }
 ],
 "metadata": {
  "kernelspec": {
   "display_name": "MariaDB",
   "language": "SQL",
   "name": "mariadb_kernel"
  },
  "language_info": {
   "file_extension": ".sql",
   "mimetype": "text/plain",
   "name": "SQL"
  }
 },
 "nbformat": 4,
 "nbformat_minor": 4
}
