{
 "cells": [
  {
   "cell_type": "markdown",
   "metadata": {},
   "source": [
    "# Selecting Data"
   ]
  },
  {
   "cell_type": "markdown",
   "metadata": {},
   "source": [
    "### Basic Selection"
   ]
  },
  {
   "cell_type": "code",
   "execution_count": 2,
   "metadata": {},
   "outputs": [
    {
     "name": "stderr",
     "output_type": "stream",
     "text": [
      "ERROR 1064 (42000): You have an error in your SQL syntax; check the manual that corresponds to your MariaDB server version for the right syntax to use near 'column FROM table' at line 1\n"
     ]
    }
   ],
   "source": [
    "SELECT column FROM table;"
   ]
  },
  {
   "cell_type": "code",
   "execution_count": 3,
   "metadata": {},
   "outputs": [
    {
     "data": {
      "text/html": []
     },
     "metadata": {},
     "output_type": "display_data"
    },
    {
     "data": {
      "text/html": [
       "<TABLE BORDER=1><TR><TH>bird_id</TH><TH>scientific_name</TH><TH>common_name</TH><TH>family_id</TH><TH>wing_id</TH><TH>body_id</TH><TH>bill_id</TH><TH>endangered</TH><TH>description</TH></TR><TR><TD>1</TD><TD>Charadrius vociferus</TD><TD>Killdeer</TD><TD>NULL</TD><TD>NULL</TD><TD>NULL</TD><TD>NULL</TD><TD> </TD><TD>NULL</TD></TR><TR><TD>2</TD><TD>Gavia immer</TD><TD>Great Northern Loon</TD><TD>NULL</TD><TD>NULL</TD><TD>NULL</TD><TD>NULL</TD><TD> </TD><TD>NULL</TD></TR><TR><TD>3</TD><TD>Aix sponsa</TD><TD>Wood Duck</TD><TD>NULL</TD><TD>NULL</TD><TD>NULL</TD><TD>NULL</TD><TD>\u0001</TD><TD>NULL</TD></TR><TR><TD>4</TD><TD>Chordeiles minor</TD><TD>Common Nighthawk</TD><TD>NULL</TD><TD>NULL</TD><TD>NULL</TD><TD>NULL</TD><TD> </TD><TD>NULL</TD></TR><TR><TD>5</TD><TD>Sitta carolinensis</TD><TD> White-breasted Nuthatch</TD><TD>NULL</TD><TD>NULL</TD><TD>NULL</TD><TD>NULL</TD><TD> </TD><TD>NULL</TD></TR><TR><TD>6</TD><TD>Apteryx mantelli</TD><TD>North Island Brown Kiwi</TD><TD>NULL</TD><TD>NULL</TD><TD>NULL</TD><TD>NULL</TD><TD>\u0001</TD><TD>NULL</TD></TR><TR><TD>7</TD><TD>Charadrius montanus</TD><TD>Mountain Plover</TD><TD>103</TD><TD>NULL</TD><TD>NULL</TD><TD>NULL</TD><TD>\u0001</TD><TD>NULL</TD></TR><TR><TD>8</TD><TD>Charadrius alexandrinus</TD><TD>Snowy Plover</TD><TD>103</TD><TD>NULL</TD><TD>NULL</TD><TD>NULL</TD><TD>\u0001</TD><TD>NULL</TD></TR><TR><TD>9</TD><TD>Pluvialis squatarola</TD><TD>Black-bellied Plover</TD><TD>103</TD><TD>NULL</TD><TD>NULL</TD><TD>NULL</TD><TD>\u0001</TD><TD>NULL</TD></TR><TR><TD>10</TD><TD>Pluvialis fulva</TD><TD>Pacific Golden Plover</TD><TD>103</TD><TD>NULL</TD><TD>NULL</TD><TD>NULL</TD><TD>\u0001</TD><TD>NULL</TD></TR></TABLE>"
      ]
     },
     "metadata": {},
     "output_type": "display_data"
    }
   ],
   "source": [
    "USE rookery;\n",
    "SELECT * FROM birds;"
   ]
  },
  {
   "cell_type": "code",
   "execution_count": 4,
   "metadata": {},
   "outputs": [
    {
     "data": {
      "text/html": [
       "<TABLE BORDER=1><TR><TH>bird_id</TH><TH>scientific_name</TH><TH>common_name</TH></TR><TR><TD>1</TD><TD>Charadrius vociferus</TD><TD>Killdeer</TD></TR><TR><TD>2</TD><TD>Gavia immer</TD><TD>Great Northern Loon</TD></TR><TR><TD>3</TD><TD>Aix sponsa</TD><TD>Wood Duck</TD></TR><TR><TD>4</TD><TD>Chordeiles minor</TD><TD>Common Nighthawk</TD></TR><TR><TD>5</TD><TD>Sitta carolinensis</TD><TD> White-breasted Nuthatch</TD></TR><TR><TD>6</TD><TD>Apteryx mantelli</TD><TD>North Island Brown Kiwi</TD></TR><TR><TD>7</TD><TD>Charadrius montanus</TD><TD>Mountain Plover</TD></TR><TR><TD>8</TD><TD>Charadrius alexandrinus</TD><TD>Snowy Plover</TD></TR><TR><TD>9</TD><TD>Pluvialis squatarola</TD><TD>Black-bellied Plover</TD></TR><TR><TD>10</TD><TD>Pluvialis fulva</TD><TD>Pacific Golden Plover</TD></TR></TABLE>"
      ]
     },
     "metadata": {},
     "output_type": "display_data"
    }
   ],
   "source": [
    "SELECT bird_id, scientific_name, common_name\n",
    "FROM birds;"
   ]
  },
  {
   "cell_type": "markdown",
   "metadata": {},
   "source": [
    "### Selecting by a Criteria"
   ]
  },
  {
   "cell_type": "code",
   "execution_count": 5,
   "metadata": {},
   "outputs": [
    {
     "data": {
      "text/html": [
       "<TABLE BORDER=1><TR><TH>common_name</TH><TH>scientific_name</TH></TR><TR><TD>Mountain Plover</TD><TD>Charadrius montanus</TD></TR><TR><TD>Snowy Plover</TD><TD>Charadrius alexandrinus</TD></TR><TR><TD>Black-bellied Plover</TD><TD>Pluvialis squatarola</TD></TR></TABLE>"
      ]
     },
     "metadata": {},
     "output_type": "display_data"
    }
   ],
   "source": [
    "SELECT common_name, scientific_name\n",
    "FROM birds WHERE family_id = 103\n",
    "LIMIT 3;"
   ]
  },
  {
   "cell_type": "markdown",
   "metadata": {},
   "source": [
    "### Ordering Results"
   ]
  },
  {
   "cell_type": "code",
   "execution_count": 6,
   "metadata": {},
   "outputs": [
    {
     "data": {
      "text/html": [
       "<TABLE BORDER=1><TR><TH>common_name</TH><TH>scientific_name</TH></TR><TR><TD>Black-bellied Plover</TD><TD>Pluvialis squatarola</TD></TR><TR><TD>Mountain Plover</TD><TD>Charadrius montanus</TD></TR><TR><TD>Pacific Golden Plover</TD><TD>Pluvialis fulva</TD></TR></TABLE>"
      ]
     },
     "metadata": {},
     "output_type": "display_data"
    }
   ],
   "source": [
    "SELECT common_name, scientific_name\n",
    "FROM birds WHERE family_id = 103\n",
    "ORDER BY common_name\n",
    "LIMIT 3;"
   ]
  },
  {
   "cell_type": "code",
   "execution_count": 7,
   "metadata": {},
   "outputs": [
    {
     "data": {
      "text/html": [
       "<TABLE BORDER=1><TR><TH>family_id</TH><TH>scientific_name</TH><TH>brief_description</TH><TH>order_id</TH></TR><TR><TD>102</TD><TD>Charadriidae</TD><TD>NULL</TD><TD>109</TD></TR></TABLE>"
      ]
     },
     "metadata": {},
     "output_type": "display_data"
    }
   ],
   "source": [
    "SELECT * FROM bird_families\n",
    "WHERE scientific_name\n",
    "IN('Charadriidae','Haematopodidae','Recurvirostridae','Scolopacidae');"
   ]
  },
  {
   "cell_type": "code",
   "execution_count": 8,
   "metadata": {},
   "outputs": [
    {
     "data": {
      "text/html": [
       "<TABLE BORDER=1><TR><TH>common_name</TH><TH>scientific_name</TH><TH>family_id</TH></TR><TR><TD>Black-bellied Plover</TD><TD>Pluvialis squatarola</TD><TD>103</TD></TR><TR><TD>Mountain Plover</TD><TD>Charadrius montanus</TD><TD>103</TD></TR><TR><TD>Pacific Golden Plover</TD><TD>Pluvialis fulva</TD><TD>103</TD></TR></TABLE>"
      ]
     },
     "metadata": {},
     "output_type": "display_data"
    }
   ],
   "source": [
    "SELECT common_name, scientific_name, family_id\n",
    "FROM birds\n",
    "WHERE family_id IN(103, 160, 162, 164)\n",
    "ORDER BY common_name\n",
    "LIMIT 3;"
   ]
  },
  {
   "cell_type": "code",
   "execution_count": 9,
   "metadata": {},
   "outputs": [
    {
     "data": {
      "text/html": [
       "<TABLE BORDER=1><TR><TH>common_name</TH><TH>scientific_name</TH><TH>family_id</TH></TR><TR><TD>Black-bellied Plover</TD><TD>Pluvialis squatarola</TD><TD>103</TD></TR><TR><TD>Mountain Plover</TD><TD>Charadrius montanus</TD><TD>103</TD></TR><TR><TD>Pacific Golden Plover</TD><TD>Pluvialis fulva</TD><TD>103</TD></TR></TABLE>"
      ]
     },
     "metadata": {},
     "output_type": "display_data"
    }
   ],
   "source": [
    "SELECT common_name, scientific_name, family_id\n",
    "FROM birds\n",
    "WHERE family_id IN(103, 160, 162, 164)\n",
    "AND common_name != ''\n",
    "ORDER BY common_name\n",
    "LIMIT 3;"
   ]
  },
  {
   "cell_type": "markdown",
   "metadata": {},
   "source": [
    "### Limiting Results"
   ]
  },
  {
   "cell_type": "code",
   "execution_count": 10,
   "metadata": {},
   "outputs": [
    {
     "data": {
      "text/html": [
       "<TABLE BORDER=1><TR><TH>common_name</TH><TH>scientific_name</TH><TH>family_id</TH></TR><TR><TD>Snowy Plover</TD><TD>Charadrius alexandrinus</TD><TD>103</TD></TR></TABLE>"
      ]
     },
     "metadata": {},
     "output_type": "display_data"
    }
   ],
   "source": [
    "SELECT common_name, scientific_name, family_id\n",
    "FROM birds\n",
    "WHERE family_id IN(103, 160, 162, 164)\n",
    "AND common_name != ''\n",
    "ORDER BY common_name\n",
    "LIMIT 3, 2;"
   ]
  },
  {
   "cell_type": "markdown",
   "metadata": {},
   "source": [
    "### Combining Tables"
   ]
  },
  {
   "cell_type": "code",
   "execution_count": 11,
   "metadata": {},
   "outputs": [
    {
     "data": {
      "text/html": [
       "<TABLE BORDER=1><TR><TH>Bird</TH><TH>Family</TH></TR><TR><TD>Black-bellied Plover</TD><TD>Laridae</TD></TR><TR><TD>Mountain Plover</TD><TD>Laridae</TD></TR><TR><TD>Pacific Golden Plover</TD><TD>Laridae</TD></TR><TR><TD>Snowy Plover</TD><TD>Laridae</TD></TR></TABLE>"
      ]
     },
     "metadata": {},
     "output_type": "display_data"
    }
   ],
   "source": [
    "SELECT common_name AS 'Bird',\n",
    "bird_families.scientific_name AS 'Family'\n",
    "FROM birds, bird_families\n",
    "WHERE birds.family_id = bird_families.family_id\n",
    "AND order_id = 102\n",
    "AND common_name != ''\n",
    "ORDER BY common_name LIMIT 10;"
   ]
  },
  {
   "cell_type": "code",
   "execution_count": 12,
   "metadata": {},
   "outputs": [
    {
     "data": {
      "text/html": [
       "<TABLE BORDER=1><TR><TH>Bird</TH><TH>Family</TH></TR><TR><TD>Black-bellied Plover</TD><TD>Laridae</TD></TR><TR><TD>Mountain Plover</TD><TD>Laridae</TD></TR><TR><TD>Pacific Golden Plover</TD><TD>Laridae</TD></TR><TR><TD>Snowy Plover</TD><TD>Laridae</TD></TR></TABLE>"
      ]
     },
     "metadata": {},
     "output_type": "display_data"
    }
   ],
   "source": [
    "SELECT common_name AS 'Bird',\n",
    "families.scientific_name AS 'Family'\n",
    "FROM birds, bird_families AS families\n",
    "WHERE birds.family_id = families.family_id\n",
    "AND order_id = 102\n",
    "AND common_name != ''\n",
    "ORDER BY common_name LIMIT 10;"
   ]
  },
  {
   "cell_type": "code",
   "execution_count": 14,
   "metadata": {},
   "outputs": [
    {
     "data": {
      "text/html": []
     },
     "metadata": {},
     "output_type": "display_data"
    }
   ],
   "source": [
    "SELECT common_name AS 'Bird',\n",
    "families.scientific_name AS 'Family',\n",
    "orders.scientific_name AS 'Order'\n",
    "FROM birds, bird_families AS families, bird_orders AS orders\n",
    "WHERE birds.family_id = families.family_id\n",
    "AND families.order_id = orders.order_id\n",
    "AND families.order_id = 102\n",
    "AND common_name != ''\n",
    "ORDER BY common_name LIMIT 10, 5;"
   ]
  },
  {
   "cell_type": "markdown",
   "metadata": {},
   "source": [
    "### Expressions and the Like"
   ]
  },
  {
   "cell_type": "code",
   "execution_count": 17,
   "metadata": {},
   "outputs": [
    {
     "data": {
      "text/html": []
     },
     "metadata": {},
     "output_type": "display_data"
    }
   ],
   "source": [
    "SELECT common_name AS 'Bird',\n",
    "families.scientific_name AS 'Family',\n",
    "orders.scientific_name AS 'Order'\n",
    "FROM birds, bird_families AS families, bird_orders AS orders\n",
    "WHERE birds.family_id = families.family_id\n",
    "AND families.order_id = orders.order_id\n",
    "AND common_name LIKE 'Least%'\n",
    "ORDER BY orders.scientific_name, families.scientific_name, common_name\n",
    "LIMIT 10;"
   ]
  },
  {
   "cell_type": "code",
   "execution_count": 18,
   "metadata": {},
   "outputs": [
    {
     "data": {
      "text/html": [
       "<TABLE BORDER=1><TR><TH>Birds Great and Small</TH></TR><TR><TD>Great Northern Loon</TD></TR></TABLE>"
      ]
     },
     "metadata": {},
     "output_type": "display_data"
    }
   ],
   "source": [
    "SELECT common_name AS 'Birds Great and Small'\n",
    "FROM birds\n",
    "WHERE common_name REGEXP 'Great|Least'\n",
    "ORDER BY family_id LIMIT 10;"
   ]
  },
  {
   "cell_type": "code",
   "execution_count": 19,
   "metadata": {},
   "outputs": [
    {
     "data": {
      "text/html": [
       "<TABLE BORDER=1><TR><TH>Birds Great and Small</TH></TR><TR><TD>Great Northern Loon</TD></TR></TABLE>"
      ]
     },
     "metadata": {},
     "output_type": "display_data"
    }
   ],
   "source": [
    "SELECT common_name AS 'Birds Great and Small'\n",
    "FROM birds\n",
    "WHERE common_name REGEXP 'Great|Least'\n",
    "AND common_name NOT REGEXP 'Greater'\n",
    "ORDER BY family_id LIMIT 10;"
   ]
  },
  {
   "cell_type": "code",
   "execution_count": 20,
   "metadata": {},
   "outputs": [
    {
     "data": {
      "text/html": []
     },
     "metadata": {},
     "output_type": "display_data"
    }
   ],
   "source": [
    "SELECT common_name AS 'Hawks'\n",
    "FROM birds\n",
    "WHERE common_name REGEXP BINARY 'Hawk'\n",
    "AND common_name NOT REGEXP 'Hawk-Owl'\n",
    "ORDER BY family_id LIMIT 10;"
   ]
  },
  {
   "cell_type": "code",
   "execution_count": 21,
   "metadata": {},
   "outputs": [
    {
     "data": {
      "text/html": [
       "<TABLE BORDER=1><TR><TH>Database</TH><TH>Create Database</TH></TR><TR><TD>rookery</TD><TD>CREATE DATABASE `rookery` /*!40100 DEFAULT CHARACTER SET latin1 COLLATE latin1_bin */</TD></TR></TABLE>"
      ]
     },
     "metadata": {},
     "output_type": "display_data"
    }
   ],
   "source": [
    "SHOW CREATE DATABASE rookery;"
   ]
  },
  {
   "cell_type": "code",
   "execution_count": 22,
   "metadata": {},
   "outputs": [
    {
     "data": {
      "text/html": [
       "<TABLE BORDER=1><TR><TH>Field</TH><TH>Type</TH><TH>Collation</TH><TH>Null</TH><TH>Key</TH><TH>Default</TH><TH>Extra</TH><TH>Privileges</TH><TH>Comment</TH></TR><TR><TD>common_name</TD><TD>varchar(255)</TD><TD>latin1_bin</TD><TD>YES</TD><TD></TD><TD>NULL</TD><TD></TD><TD>select,insert,update,references</TD><TD></TD></TR></TABLE>"
      ]
     },
     "metadata": {},
     "output_type": "display_data"
    }
   ],
   "source": [
    "SHOW FULL COLUMNS\n",
    "FROM birds LIKE 'common_name';"
   ]
  },
  {
   "cell_type": "code",
   "execution_count": 23,
   "metadata": {},
   "outputs": [
    {
     "name": "stderr",
     "output_type": "stream",
     "text": [
      "ERROR 1139 (42000): Got error 'POSIX collating elements are not supported at offset 17' from regexp\n"
     ]
    }
   ],
   "source": [
    "SELECT common_name AS 'Hawks'\n",
    "FROM birds\n",
    "WHERE common_name REGEXP '[[:space:]]Hawk|[[.hyphen.]]Hawk'\n",
    "AND common_name NOT REGEXP 'Hawk-Owl|Hawk Owl'\n",
    "ORDER BY family_id;"
   ]
  },
  {
   "cell_type": "markdown",
   "metadata": {},
   "source": [
    "### Counting and Grouping Results"
   ]
  },
  {
   "cell_type": "code",
   "execution_count": 24,
   "metadata": {},
   "outputs": [
    {
     "data": {
      "text/html": [
       "<TABLE BORDER=1><TR><TH>COUNT(*)</TH></TR><TR><TD>10</TD></TR></TABLE>"
      ]
     },
     "metadata": {},
     "output_type": "display_data"
    }
   ],
   "source": [
    "SELECT COUNT(*) FROM birds;"
   ]
  },
  {
   "cell_type": "code",
   "execution_count": 26,
   "metadata": {},
   "outputs": [
    {
     "data": {
      "text/html": [
       "<TABLE BORDER=1><TR><TH>Family</TH><TH>Number of Birds</TH></TR><TR><TD>NULL</TD><TD>0</TD></TR></TABLE>"
      ]
     },
     "metadata": {},
     "output_type": "display_data"
    }
   ],
   "source": [
    "SELECT families.scientific_name AS 'Family',\n",
    "COUNT(*) AS 'Number of Birds'\n",
    "FROM birds, bird_families AS families\n",
    "WHERE birds.family_id = families.family_id\n",
    "AND families.scientific_name = 'Pelecanidae';"
   ]
  },
  {
   "cell_type": "code",
   "execution_count": 27,
   "metadata": {},
   "outputs": [
    {
     "data": {
      "text/html": [
       "<TABLE BORDER=1><TR><TH>Order</TH><TH>Family</TH><TH>Number of Birds</TH></TR><TR><TD>Pelecaniformes</TD><TD>NULL</TD><TD>0</TD></TR></TABLE>"
      ]
     },
     "metadata": {},
     "output_type": "display_data"
    }
   ],
   "source": [
    "SELECT orders.scientific_name AS 'Order',\n",
    "families.scientific_name AS 'Family',\n",
    "COUNT(*) AS 'Number of Birds'\n",
    "FROM birds, bird_families AS families, bird_orders AS orders\n",
    "WHERE birds.family_id = families.family_id\n",
    "AND families.order_id = orders.order_id\n",
    "AND orders.scientific_name = 'Pelecaniformes';\n"
   ]
  },
  {
   "cell_type": "code",
   "execution_count": 28,
   "metadata": {},
   "outputs": [
    {
     "data": {
      "text/html": []
     },
     "metadata": {},
     "output_type": "display_data"
    }
   ],
   "source": [
    "SELECT orders.scientific_name AS 'Order',\n",
    "families.scientific_name AS 'Family',\n",
    "COUNT(*) AS 'Number of Birds'\n",
    "FROM birds, bird_families AS families, bird_orders AS orders\n",
    "WHERE birds.family_id = families.family_id\n",
    "AND families.order_id = orders.order_id\n",
    "AND orders.scientific_name = 'Pelecaniformes'\n",
    "GROUP BY Family;"
   ]
  },
  {
   "cell_type": "markdown",
   "metadata": {},
   "source": [
    "### Summary"
   ]
  },
  {
   "cell_type": "markdown",
   "metadata": {},
   "source": [
    "The SELECT statement offers quite a number of parameters and possibilities that I had\n",
    "to skip to keep this chapter from becoming too lengthy and too advanced for a learning\n",
    "book. For instance, there are several options for caching results and a clause for exporting\n",
    "a results set to a text file. You can learn about these from other sources if you\n",
    "need them.\n",
    "At this point, make sure you’re comfortable with the SELECT statement and its main\n",
    "components: choosing columns and using field aliases; choosing multiple tables in the\n",
    "FROM clause; how to construct a WHERE clause, including the basics of regular expressions;\n",
    "using the ORDER BY and the GROUP BY clauses; and limiting results with the LIMIT clause.\n",
    "It will take time and practice to become very comfortable with all of these components.\n",
    "Before moving on to Chapter 8, make sure to complete the exercises in the next section."
   ]
  }
 ],
 "metadata": {
  "kernelspec": {
   "display_name": "MariaDB",
   "language": "SQL",
   "name": "mariadb_kernel"
  },
  "language_info": {
   "file_extension": ".sql",
   "mimetype": "text/plain",
   "name": "SQL"
  }
 },
 "nbformat": 4,
 "nbformat_minor": 4
}
