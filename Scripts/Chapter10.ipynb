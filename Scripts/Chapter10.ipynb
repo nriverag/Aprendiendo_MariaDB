{
 "cells": [
  {
   "cell_type": "markdown",
   "metadata": {},
   "source": [
    "### String Functions"
   ]
  },
  {
   "cell_type": "markdown",
   "metadata": {},
   "source": [
    "### Concatenating Strings"
   ]
  },
  {
   "cell_type": "code",
   "execution_count": 1,
   "metadata": {},
   "outputs": [
    {
     "name": "stderr",
     "output_type": "stream",
     "text": [
      "ERROR 1146 (42S02): Table 'birdwatchers.bird_sightings' doesn't exist\n"
     ]
    }
   ],
   "source": [
    "SELECT CONCAT(formal_title, '. ', name_first, SPACE(1), name_last) AS Birder,\n",
    "CONCAT(common_name, ' - ', birds.scientific_name) AS Bird,\n",
    "time_seen AS 'When Spotted'\n",
    "FROM birdwatchers.bird_sightings\n",
    "JOIN birdwatchers.humans USING(human_id)\n",
    "JOIN rookery.birds USING(bird_id)\n",
    "GROUP BY human_id DESC\n",
    "LIMIT 4;"
   ]
  },
  {
   "cell_type": "code",
   "execution_count": 3,
   "metadata": {},
   "outputs": [
    {
     "name": "stderr",
     "output_type": "stream",
     "text": [
      "ERROR: Unknown command '\\ '.\n"
     ]
    }
   ],
   "source": [
    "mysql -p --skip-column-names -e \\\n",
    "\"SELECT CONCAT_WS('|', formal_title, name_first, name_last,\n",
    "street_address, city, state_province, postal_code, country_id)\n",
    "FROM birdwatchers.humans WHERE membership_type = 'premium'\n",
    "AND membership_expiration > CURDATE();\" > rookery_patch_mailinglist.txt;"
   ]
  },
  {
   "cell_type": "code",
   "execution_count": 5,
   "metadata": {},
   "outputs": [
    {
     "data": {
      "text/html": []
     },
     "metadata": {},
     "output_type": "display_data"
    }
   ],
   "source": [
    "USE rookery;"
   ]
  },
  {
   "cell_type": "markdown",
   "metadata": {},
   "source": [
    "### Setting Case and Quotes"
   ]
  },
  {
   "cell_type": "markdown",
   "metadata": {},
   "source": [
    "SELECT LCASE(common_name) AS Species,\n",
    "UCASE(bird_families.scientific_name) AS Family\n",
    "FROM birds\n",
    "JOIN bird_families USING(family_id)\n",
    "WHERE common_name LIKE '%Wren%'\n",
    "ORDER BY Species\n",
    "LIMIT 5;"
   ]
  },
  {
   "cell_type": "code",
   "execution_count": 7,
   "metadata": {},
   "outputs": [
    {
     "data": {
      "text/html": []
     },
     "metadata": {},
     "output_type": "display_data"
    }
   ],
   "source": [
    "SELECT QUOTE(common_name)\n",
    "FROM birds\n",
    "WHERE common_name LIKE \"%Prince%\"\n",
    "ORDER BY common_name;"
   ]
  },
  {
   "cell_type": "markdown",
   "metadata": {},
   "source": [
    "### Summary"
   ]
  },
  {
   "cell_type": "markdown",
   "metadata": {},
   "source": [
    "There are more string functions available in MySQL and MariaDB. A few of the func‐\n",
    "tions mentioned here have aliases or close alternatives. There are also functions for\n",
    "converting between ASCII, binary, hexadecimal, and octal strings. And there are also\n",
    "string functions related to text encryption and decryption that were not mentioned.\n",
    "However, I think this chapter has given you a good collection of common string func‐\n",
    "tions that will assist you in building more powerful SQL statements and formatting\n",
    "results to be more attractive."
   ]
  },
  {
   "cell_type": "code",
   "execution_count": null,
   "metadata": {},
   "outputs": [],
   "source": []
  }
 ],
 "metadata": {
  "kernelspec": {
   "display_name": "MariaDB",
   "language": "SQL",
   "name": "mariadb_kernel"
  },
  "language_info": {
   "file_extension": ".sql",
   "mimetype": "text/plain",
   "name": "SQL"
  }
 },
 "nbformat": 4,
 "nbformat_minor": 4
}
