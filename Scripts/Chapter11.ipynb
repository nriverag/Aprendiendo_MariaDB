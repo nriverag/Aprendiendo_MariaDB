{
 "cells": [
  {
   "cell_type": "markdown",
   "metadata": {},
   "source": [
    "# Date and Time Functions\n"
   ]
  },
  {
   "cell_type": "markdown",
   "metadata": {},
   "source": [
    "## Date and Time Data Types\n"
   ]
  },
  {
   "cell_type": "code",
   "execution_count": 2,
   "metadata": {},
   "outputs": [
    {
     "name": "stderr",
     "output_type": "stream",
     "text": [
      "ERROR 1064 (42000): You have an error in your SQL syntax; check the manual that corresponds to your MariaDB server version for the right syntax to use near 'DATE' at line 1\n"
     ]
    }
   ],
   "source": [
    "DATE;\n"
   ]
  },
  {
   "cell_type": "code",
   "execution_count": 3,
   "metadata": {},
   "outputs": [
    {
     "name": "stderr",
     "output_type": "stream",
     "text": [
      "ERROR 1064 (42000): You have an error in your SQL syntax; check the manual that corresponds to your MariaDB server version for the right syntax to use near 'TIME' at line 1\n"
     ]
    }
   ],
   "source": [
    "TIME;"
   ]
  },
  {
   "cell_type": "code",
   "execution_count": 4,
   "metadata": {},
   "outputs": [
    {
     "name": "stderr",
     "output_type": "stream",
     "text": [
      "ERROR 1064 (42000): You have an error in your SQL syntax; check the manual that corresponds to your MariaDB server version for the right syntax to use near 'DATETIME' at line 1\n"
     ]
    }
   ],
   "source": [
    "DATETIME;"
   ]
  },
  {
   "cell_type": "code",
   "execution_count": 5,
   "metadata": {},
   "outputs": [
    {
     "name": "stderr",
     "output_type": "stream",
     "text": [
      "ERROR 1064 (42000): You have an error in your SQL syntax; check the manual that corresponds to your MariaDB server version for the right syntax to use near 'TIMESTAMP' at line 1\n"
     ]
    }
   ],
   "source": [
    "TIMESTAMP;"
   ]
  },
  {
   "cell_type": "code",
   "execution_count": 6,
   "metadata": {},
   "outputs": [
    {
     "name": "stderr",
     "output_type": "stream",
     "text": [
      "ERROR 1064 (42000): You have an error in your SQL syntax; check the manual that corresponds to your MariaDB server version for the right syntax to use near 'YEAR' at line 1\n"
     ]
    }
   ],
   "source": [
    "YEAR;"
   ]
  },
  {
   "cell_type": "markdown",
   "metadata": {},
   "source": [
    "## Current Date and Time\n"
   ]
  },
  {
   "cell_type": "code",
   "execution_count": 7,
   "metadata": {},
   "outputs": [
    {
     "data": {
      "text/html": [
       "<TABLE BORDER=1><TR><TH>NOW( )</TH></TR><TR><TD>2021-03-29 11:06:39</TD></TR></TABLE>"
      ]
     },
     "metadata": {},
     "output_type": "display_data"
    }
   ],
   "source": [
    "SELECT NOW( );\n"
   ]
  },
  {
   "cell_type": "code",
   "execution_count": 9,
   "metadata": {},
   "outputs": [
    {
     "data": {
      "text/html": []
     },
     "metadata": {},
     "output_type": "display_data"
    }
   ],
   "source": [
    "USE rookery;"
   ]
  },
  {
   "cell_type": "code",
   "execution_count": 10,
   "metadata": {},
   "outputs": [
    {
     "name": "stderr",
     "output_type": "stream",
     "text": [
      "ERROR 1146 (42S02): Table 'rookery.bird_sightings' doesn't exist\n"
     ]
    }
   ],
   "source": [
    "INSERT INTO bird_sightings\n",
    "(bird_id, human_id, time_seen, location_gps)\n",
    "VALUES (104, 34, NOW( ), '47.318875; 8.580119');\n"
   ]
  },
  {
   "cell_type": "code",
   "execution_count": 11,
   "metadata": {},
   "outputs": [
    {
     "data": {
      "text/html": [
       "<TABLE BORDER=1><TR><TH>NOW()</TH><TH>Zzz</TH><TH>SYSDATE()</TH><TH>Zzz</TH><TH>SYSDATE()</TH></TR><TR><TD>2021-03-29 11:07:04</TD><TD>0</TD><TD>2021-03-29 11:07:08</TD><TD>0</TD><TD>2021-03-29 11:07:10</TD></TR></TABLE>"
      ]
     },
     "metadata": {},
     "output_type": "display_data"
    }
   ],
   "source": [
    "SELECT NOW(), SLEEP(4) AS 'Zzz', SYSDATE(), SLEEP(2) AS 'Zzz', SYSDATE();\n"
   ]
  },
  {
   "cell_type": "code",
   "execution_count": 12,
   "metadata": {},
   "outputs": [
    {
     "data": {
      "text/html": [
       "<TABLE BORDER=1><TR><TH>NOW( )</TH><TH>CURDATE( )</TH><TH>CURTIME( )</TH></TR><TR><TD>2021-03-29 11:07:13</TD><TD>2021-03-29</TD><TD>11:07:13</TD></TR></TABLE>"
      ]
     },
     "metadata": {},
     "output_type": "display_data"
    }
   ],
   "source": [
    "SELECT NOW( ), CURDATE( ), CURTIME( );\n"
   ]
  },
  {
   "cell_type": "code",
   "execution_count": 13,
   "metadata": {},
   "outputs": [
    {
     "data": {
      "text/html": [
       "<TABLE BORDER=1><TR><TH>UNIX_TIMESTAMP( )</TH><TH>NOW( )</TH></TR><TR><TD>1617034039</TD><TD>2021-03-29 11:07:19</TD></TR></TABLE>"
      ]
     },
     "metadata": {},
     "output_type": "display_data"
    }
   ],
   "source": [
    "SELECT UNIX_TIMESTAMP( ), NOW( );\n"
   ]
  },
  {
   "cell_type": "code",
   "execution_count": 14,
   "metadata": {},
   "outputs": [
    {
     "data": {
      "text/html": [
       "<TABLE BORDER=1><TR><TH>Simple</TH><TH>Seconds since Epoch</TH><TH>Complicated</TH></TR><TR><TD>44</TD><TD>1617034047</TD><TD>51</TD></TR></TABLE>"
      ]
     },
     "metadata": {},
     "output_type": "display_data"
    }
   ],
   "source": [
    "SELECT (2014 - 1970) AS 'Simple',\n",
    "UNIX_TIMESTAMP( ) AS 'Seconds since Epoch',\n",
    "ROUND(UNIX_TIMESTAMP( ) / 60 / 60 / 24 / 365.25) AS 'Complicated';\n"
   ]
  },
  {
   "cell_type": "code",
   "execution_count": 15,
   "metadata": {},
   "outputs": [
    {
     "name": "stderr",
     "output_type": "stream",
     "text": [
      "ERROR 1146 (42S02): Table 'rookery.bird_sightings' doesn't exist\n"
     ]
    }
   ],
   "source": [
    "SELECT CONCAT(name_first, SPACE(1), name_last) AS 'Birdwatcher',\n",
    "ROUND((UNIX_TIMESTAMP( ) - UNIX_TIMESTAMP(time_seen)) / 60 / 60 / 24)\n",
    " AS 'Days Since Spotted'\n",
    "FROM bird_sightings JOIN humans USING(human_id)\n",
    "WHERE bird_id = 309;\n"
   ]
  },
  {
   "cell_type": "markdown",
   "metadata": {},
   "source": [
    "## Extracting Date and Time Components\n"
   ]
  },
  {
   "cell_type": "code",
   "execution_count": 18,
   "metadata": {},
   "outputs": [
    {
     "name": "stderr",
     "output_type": "stream",
     "text": [
      "ERROR 1146 (42S02): Table 'rookery.bird_sightings' doesn't exist\n"
     ]
    }
   ],
   "source": [
    "SELECT CONCAT(name_first, SPACE(1), name_last) AS 'Birdwatcher',\n",
    "time_seen, DATE(time_seen), TIME(time_seen)\n",
    "FROM bird_sightings\n",
    "JOIN humans USING(human_id)\n",
    "WHERE bird_id = 309;\n"
   ]
  },
  {
   "cell_type": "code",
   "execution_count": 19,
   "metadata": {},
   "outputs": [
    {
     "name": "stderr",
     "output_type": "stream",
     "text": [
      "ERROR 1146 (42S02): Table 'rookery.bird_sightings' doesn't exist\n"
     ]
    }
   ],
   "source": [
    "SELECT CONCAT(name_first, SPACE(1), name_last) AS 'Birdwatcher',\n",
    "time_seen, HOUR(time_seen), MINUTE(time_seen), SECOND(time_seen)\n",
    "FROM bird_sightings JOIN humans USING(human_id)\n",
    "WHERE bird_id = 309;\n"
   ]
  },
  {
   "cell_type": "code",
   "execution_count": 20,
   "metadata": {},
   "outputs": [
    {
     "name": "stderr",
     "output_type": "stream",
     "text": [
      "ERROR 1146 (42S02): Table 'rookery.bird_sightings' doesn't exist\n"
     ]
    }
   ],
   "source": [
    "SELECT time_seen,\n",
    "EXTRACT(YEAR_MONTH FROM time_seen) AS 'Year & Month',\n",
    "EXTRACT(MONTH FROM time_seen) AS 'Month Only',\n",
    "EXTRACT(HOUR_MINUTE FROM time_seen) AS 'Hour & Minute',\n",
    "EXTRACT(HOUR FROM time_seen) AS 'Hour Only'\n",
    "FROM bird_sightings JOIN humans USING(human_id)\n",
    "LIMIT 3;"
   ]
  },
  {
   "cell_type": "code",
   "execution_count": 21,
   "metadata": {},
   "outputs": [
    {
     "name": "stderr",
     "output_type": "stream",
     "text": [
      "ERROR 1146 (42S02): Table 'rookery.bird_sightings' doesn't exist\n"
     ]
    }
   ],
   "source": [
    "SELECT common_name AS 'Endangered Bird',\n",
    "CONCAT(name_first, SPACE(1), name_last) AS 'Birdwatcher',\n",
    "DATE_FORMAT(time_seen, '%W, %M %e, %Y') AS 'Date Spotted',\n",
    "TIME_FORMAT(time_seen, '%l:%i %p') AS 'Time Spotted'\n",
    "FROM bird_sightings\n",
    "JOIN humans USING(human_id)\n",
    "JOIN rookery.birds USING(bird_id)\n",
    "JOIN rookery.conservation_status USING(conservation_status_id)\n",
    "WHERE conservation_category = 'Threatened' LIMIT 3;\n"
   ]
  },
  {
   "cell_type": "markdown",
   "metadata": {},
   "source": [
    "## Summary"
   ]
  },
  {
   "cell_type": "markdown",
   "metadata": {},
   "source": [
    "We’ve covered almost all of the date and time functions in MySQL and MariaDB in this\n",
    "chapter. There are only a few more. We skipped the aliases (e.g., ADDDATE( ) for\n",
    "DATE_ADD( ), SUBDATE( ) for DATE_SUB( )). There are also a few other functions for\n",
    "specialized needs, which you can learn as you need them. You’ve learned plenty in this\n",
    "chapter, and the information here should come in handy for many years.\n",
    "The primary reason we went through so many date and time functions is because the\n",
    "date and time is a major part of most cultures: when something has happened, when\n",
    "something will happen, making appointments, and how much time has passed are\n",
    "common concerns when people interact with one another. This information is therefore\n",
    "a significant component of a database. I want you to be familiar with the temporal\n",
    "functions and to have a firm grasp on what tools are available. To that end, work through\n",
    "the exercises in the following section. You’ll retain more of what you learned in this\n",
    "chapter if you do."
   ]
  },
  {
   "cell_type": "code",
   "execution_count": null,
   "metadata": {},
   "outputs": [],
   "source": []
  }
 ],
 "metadata": {
  "kernelspec": {
   "display_name": "MariaDB",
   "language": "SQL",
   "name": "mariadb_kernel"
  },
  "language_info": {
   "file_extension": ".sql",
   "mimetype": "text/plain",
   "name": "SQL"
  }
 },
 "nbformat": 4,
 "nbformat_minor": 4
}
