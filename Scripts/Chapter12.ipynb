{
 "cells": [
  {
   "cell_type": "markdown",
   "metadata": {},
   "source": [
    "# Aggregate and Numeric Functions"
   ]
  },
  {
   "cell_type": "code",
   "execution_count": 2,
   "metadata": {},
   "outputs": [
    {
     "data": {
      "text/html": []
     },
     "metadata": {},
     "output_type": "display_data"
    },
    {
     "data": {
      "text/html": [
       "<TABLE BORDER=1><TR><TH>COUNT(*)</TH></TR><TR><TD>10</TD></TR></TABLE>"
      ]
     },
     "metadata": {},
     "output_type": "display_data"
    }
   ],
   "source": [
    "USE rookery;\n",
    "SELECT COUNT(*)\n",
    "FROM birds;\n"
   ]
  },
  {
   "cell_type": "code",
   "execution_count": 3,
   "metadata": {},
   "outputs": [
    {
     "data": {
      "text/html": []
     },
     "metadata": {},
     "output_type": "display_data"
    },
    {
     "data": {
      "text/html": [
       "<TABLE BORDER=1><TR><TH>COUNT(common_name)</TH></TR><TR><TD>10</TD></TR></TABLE>"
      ]
     },
     "metadata": {},
     "output_type": "display_data"
    }
   ],
   "source": [
    "UPDATE birds\n",
    "SET common_name = NULL\n",
    "WHERE common_name = '';\n",
    "SELECT COUNT(common_name)\n",
    "FROM birds;"
   ]
  },
  {
   "cell_type": "code",
   "execution_count": 4,
   "metadata": {},
   "outputs": [
    {
     "data": {
      "text/html": [
       "<TABLE BORDER=1><TR><TH>COUNT(*)</TH></TR><TR><TD>0</TD></TR></TABLE>"
      ]
     },
     "metadata": {},
     "output_type": "display_data"
    }
   ],
   "source": [
    "SELECT COUNT(*) FROM birds\n",
    "WHERE common_name IS NULL;\n"
   ]
  },
  {
   "cell_type": "code",
   "execution_count": 5,
   "metadata": {},
   "outputs": [
    {
     "data": {
      "text/html": [
       "<TABLE BORDER=1><TR><TH>COUNT(*)</TH></TR><TR><TD>10</TD></TR></TABLE>"
      ]
     },
     "metadata": {},
     "output_type": "display_data"
    }
   ],
   "source": [
    "SELECT COUNT(*) FROM birds\n",
    "WHERE common_name IS NOT NULL;"
   ]
  },
  {
   "cell_type": "code",
   "execution_count": 6,
   "metadata": {},
   "outputs": [
    {
     "data": {
      "text/html": [
       "<TABLE BORDER=1><TR><TH>COUNT(*)</TH></TR><TR><TD>6</TD></TR><TR><TD>4</TD></TR></TABLE>"
      ]
     },
     "metadata": {},
     "output_type": "display_data"
    }
   ],
   "source": [
    "SELECT COUNT(*)\n",
    "FROM birds\n",
    "GROUP BY family_id;\n"
   ]
  },
  {
   "cell_type": "code",
   "execution_count": 7,
   "metadata": {},
   "outputs": [
    {
     "data": {
      "text/html": [
       "<TABLE BORDER=1><TR><TH>Bird Family</TH><TH>Number of Species</TH></TR><TR><TD>Laridae</TD><TD>4</TD></TR></TABLE>"
      ]
     },
     "metadata": {},
     "output_type": "display_data"
    }
   ],
   "source": [
    "SELECT bird_families.scientific_name AS 'Bird Family',\n",
    "COUNT(*) AS 'Number of Species'\n",
    "FROM birds JOIN bird_families USING(family_id)\n",
    "GROUP BY birds.family_id;"
   ]
  },
  {
   "cell_type": "code",
   "execution_count": 8,
   "metadata": {},
   "outputs": [
    {
     "data": {
      "text/html": [
       "<TABLE BORDER=1><TR><TH>Bird Family</TH><TH>Number of Species</TH></TR><TR><TD>NULL</TD><TD>6</TD></TR><TR><TD>Laridae</TD><TD>4</TD></TR></TABLE>"
      ]
     },
     "metadata": {},
     "output_type": "display_data"
    }
   ],
   "source": [
    "SELECT bird_families.scientific_name AS 'Bird Family',\n",
    "COUNT(*) AS 'Number of Species'\n",
    "FROM birds LEFT JOIN bird_families USING(family_id)\n",
    "GROUP BY birds.family_id;"
   ]
  },
  {
   "cell_type": "code",
   "execution_count": 9,
   "metadata": {},
   "outputs": [
    {
     "data": {
      "text/html": [
       "<TABLE BORDER=1><TR><TH>Bird Family</TH><TH>Number of Species</TH></TR><TR><TD>NULL</TD><TD>6</TD></TR><TR><TD>Laridae</TD><TD>4</TD></TR></TABLE>"
      ]
     },
     "metadata": {},
     "output_type": "display_data"
    }
   ],
   "source": [
    "SELECT bird_families.scientific_name AS 'Bird Family',\n",
    "COUNT(*) AS 'Number of Species'\n",
    "FROM birds LEFT JOIN bird_families USING(family_id)\n",
    "GROUP BY bird_families.scientific_name;\n"
   ]
  },
  {
   "cell_type": "code",
   "execution_count": 10,
   "metadata": {},
   "outputs": [
    {
     "data": {
      "text/html": [
       "<TABLE BORDER=1><TR><TH>Bird Family</TH><TH>Number of Species</TH></TR><TR><TD>Laridae</TD><TD>4</TD></TR><TR><TD>NULL</TD><TD>4</TD></TR></TABLE>"
      ]
     },
     "metadata": {},
     "output_type": "display_data"
    }
   ],
   "source": [
    "SELECT bird_families.scientific_name AS 'Bird Family',\n",
    "COUNT(*) AS 'Number of Species'\n",
    "FROM birds JOIN bird_families USING(family_id)\n",
    "GROUP BY bird_families.scientific_name WITH ROLLUP;\n"
   ]
  },
  {
   "cell_type": "code",
   "execution_count": 11,
   "metadata": {},
   "outputs": [
    {
     "data": {
      "text/html": [
       "<TABLE BORDER=1><TR><TH>Bird Order</TH><TH>Bird Family</TH><TH>Number of Species</TH></TR><TR><TD>Charadriiformes</TD><TD>Laridae</TD><TD>4</TD></TR><TR><TD>Charadriiformes</TD><TD>Total:</TD><TD>4</TD></TR><TR><TD></TD><TD>Total:</TD><TD>4</TD></TR></TABLE>"
      ]
     },
     "metadata": {},
     "output_type": "display_data"
    }
   ],
   "source": [
    "SELECT IFNULL( bird_orders.scientific_name, '') AS 'Bird Order',\n",
    "IFNULL( bird_families.scientific_name, 'Total:') AS 'Bird Family',\n",
    "COUNT(*) AS 'Number of Species'\n",
    "FROM birds\n",
    "JOIN bird_families USING(family_id)\n",
    "JOIN bird_orders USING(order_id)\n",
    "GROUP BY bird_orders.scientific_name, bird_families.scientific_name\n",
    "WITH ROLLUP;\n"
   ]
  },
  {
   "cell_type": "code",
   "execution_count": 12,
   "metadata": {},
   "outputs": [
    {
     "name": "stderr",
     "output_type": "stream",
     "text": [
      "ERROR 1146 (42S02): Table 'rookery.bird_identification_tests' doesn't exist\n"
     ]
    }
   ],
   "source": [
    "SELECT common_name AS 'Bird',\n",
    "TIME_TO_SEC( TIMEDIFF(id_end, id_start) )\n",
    " AS 'Seconds to Identify'\n",
    "FROM bird_identification_tests\n",
    "JOIN humans USING(human_id)\n",
    "JOIN rookery.birds USING(bird_id)\n",
    "WHERE name_first = 'Ricky' AND name_last = 'Adams';\n"
   ]
  },
  {
   "cell_type": "code",
   "execution_count": 13,
   "metadata": {},
   "outputs": [
    {
     "name": "stderr",
     "output_type": "stream",
     "text": [
      "ERROR 1146 (42S02): Table 'rookery.bird_identification_tests' doesn't exist\n"
     ]
    }
   ],
   "source": [
    "SELECT CONCAT(name_first, SPACE(1), name_last)\n",
    " AS 'Birdwatcher',\n",
    "SUM(TIME_TO_SEC( TIMEDIFF(id_end, id_start) ) )\n",
    " AS 'Total Seconds for Identifications'\n",
    "FROM bird_identification_tests\n",
    "JOIN humans USING(human_id)\n",
    "JOIN rookery.birds USING(bird_id)\n",
    "WHERE name_first = 'Ricky' AND name_last = 'Adams';\n"
   ]
  },
  {
   "cell_type": "code",
   "execution_count": null,
   "metadata": {},
   "outputs": [],
   "source": [
    "SELECT Identifications, Seconds,\n",
    "(Seconds / Identifications) AS 'Avg. Seconds/Identification'\n",
    "FROM\n",
    " ( SELECT human_id, COUNT(*) AS 'Identifications'\n",
    " FROM bird_identification_tests\n",
    " JOIN humans USING(human_id)\n",
    " JOIN rookery.birds USING(bird_id)\n",
    " WHERE name_first = 'Ricky' AND name_last = 'Adams')\n",
    " AS row_count\n",
    " JOIN\n",
    " ( SELECT human_id, CONCAT(name_first, SPACE(1), name_last)\n",
    " AS 'Birdwatcher',\n",
    " SUM(TIME_TO_SEC(TIMEDIFF(id_end, id_start)))\n",
    " AS 'Seconds'\n",
    " FROM bird_identification_tests\n",
    " JOIN humans USING(human_id)\n",
    " JOIN rookery.birds USING(bird_id) )\n",
    " AS second_cou"
   ]
  },
  {
   "cell_type": "markdown",
   "metadata": {},
   "source": [
    "### Summary"
   ]
  },
  {
   "cell_type": "markdown",
   "metadata": {},
   "source": [
    "Although we didn’t cover all of the aggregate and numeric functions, we covered most\n",
    "of them—including the ones that are used most often. We primarily skipped the statistics\n",
    "functions. We didn’t cover many arithmetic functions, but those are pretty straightfor‐\n",
    "ward (e.g., POWER(2, 8) returns 2 to the eighth power, or 256), or they’re specialized\n",
    "(e.g., PI( ) returns π, or 3.141593). What’s important is that you feel comfortable with\n",
    "aggregate functions and using the GROUP BY clause—you’ll use them often—and that\n",
    "you have a firm grasp on the numeric functions covered in this chapter. Several other\n",
    "numeric functions exist, in case you ever need them. If you want to learn about these\n",
    "other functions, you can check the MySQL documentation or the MariaDB documen‐\n",
    "tation."
   ]
  },
  {
   "cell_type": "code",
   "execution_count": null,
   "metadata": {},
   "outputs": [],
   "source": []
  }
 ],
 "metadata": {
  "kernelspec": {
   "display_name": "MariaDB",
   "language": "SQL",
   "name": "mariadb_kernel"
  },
  "language_info": {
   "file_extension": ".sql",
   "mimetype": "text/plain",
   "name": "SQL"
  }
 },
 "nbformat": 4,
 "nbformat_minor": 4
}
