{
 "cells": [
  {
   "cell_type": "markdown",
   "metadata": {},
   "source": [
    "# Inserting Data"
   ]
  },
  {
   "cell_type": "markdown",
   "metadata": {},
   "source": [
    "### The Syntax"
   ]
  },
  {
   "cell_type": "code",
   "execution_count": 1,
   "metadata": {},
   "outputs": [
    {
     "name": "stderr",
     "output_type": "stream",
     "text": [
      "ERROR 1064 (42000): You have an error in your SQL syntax; check the manual that corresponds to your MariaDB server version for the right syntax to use near 'table [(column, …)] VALUES (value, …), (…), …' at line 1\n"
     ]
    }
   ],
   "source": [
    "INSERT INTO table [(column, …)]\n",
    "VALUES (value, …), (…), …;"
   ]
  },
  {
   "cell_type": "code",
   "execution_count": 5,
   "metadata": {},
   "outputs": [
    {
     "name": "stderr",
     "output_type": "stream",
     "text": [
      "ERROR 1366 (22007): Incorrect integer value: 'The Big Sleep' for column `test`.`books`.`book_id` at row 1\n"
     ]
    }
   ],
   "source": [
    "INSERT INTO test.books\n",
    "VALUES('The Big Sleep', 'Raymond Chandler', '1934');"
   ]
  },
  {
   "cell_type": "code",
   "execution_count": 6,
   "metadata": {},
   "outputs": [
    {
     "name": "stderr",
     "output_type": "stream",
     "text": [
      "ERROR 1046 (3D000): No database selected\n"
     ]
    }
   ],
   "source": [
    "INSERT INTO books\n",
    "VALUES('The Thirty-Nine Steps', 'John Buchan', DEFAULT);"
   ]
  },
  {
   "cell_type": "code",
   "execution_count": 7,
   "metadata": {},
   "outputs": [
    {
     "name": "stderr",
     "output_type": "stream",
     "text": [
      "ERROR 1046 (3D000): No database selected\n"
     ]
    }
   ],
   "source": [
    "INSERT INTO books\n",
    "(author, title)\n",
    "VALUES('Evelyn Waugh','Brideshead Revisited');"
   ]
  },
  {
   "cell_type": "code",
   "execution_count": 8,
   "metadata": {},
   "outputs": [
    {
     "name": "stderr",
     "output_type": "stream",
     "text": [
      "ERROR 1046 (3D000): No database selected\n"
     ]
    }
   ],
   "source": [
    "INSERT INTO books\n",
    "(title, author, year)\n",
    "VALUES('Visitation of Spirits','Randall Kenan','1989'),\n",
    "('Heart of Darkness','Joseph Conrad','1902'),\n",
    "('The Idiot','Fyodor Dostoevsky','1871');"
   ]
  },
  {
   "cell_type": "markdown",
   "metadata": {},
   "source": [
    "### Practical Examples"
   ]
  },
  {
   "cell_type": "code",
   "execution_count": 9,
   "metadata": {},
   "outputs": [
    {
     "data": {
      "text/html": []
     },
     "metadata": {},
     "output_type": "display_data"
    }
   ],
   "source": [
    "USE rookery;"
   ]
  },
  {
   "cell_type": "code",
   "execution_count": 10,
   "metadata": {},
   "outputs": [
    {
     "data": {
      "text/html": [
       "<TABLE BORDER=1><TR><TH>Field</TH><TH>Type</TH><TH>Null</TH><TH>Key</TH><TH>Default</TH><TH>Extra</TH></TR><TR><TD>order_id</TD><TD>int(11)</TD><TD>NO</TD><TD>PRI</TD><TD>NULL</TD><TD>auto_increment</TD></TR><TR><TD>scientific_name</TD><TD>varchar(255)</TD><TD>YES</TD><TD>UNI</TD><TD>NULL</TD><TD></TD></TR><TR><TD>brief_description</TD><TD>varchar(255)</TD><TD>YES</TD><TD></TD><TD>NULL</TD><TD></TD></TR><TR><TD>order_image</TD><TD>blob</TD><TD>YES</TD><TD></TD><TD>NULL</TD><TD></TD></TR></TABLE>"
      ]
     },
     "metadata": {},
     "output_type": "display_data"
    }
   ],
   "source": [
    "DESCRIBE bird_orders;"
   ]
  },
  {
   "cell_type": "code",
   "execution_count": 11,
   "metadata": {},
   "outputs": [
    {
     "data": {
      "text/html": []
     },
     "metadata": {},
     "output_type": "display_data"
    }
   ],
   "source": [
    "ALTER TABLE bird_orders\n",
    "AUTO_INCREMENT = 100;"
   ]
  },
  {
   "cell_type": "code",
   "execution_count": 12,
   "metadata": {},
   "outputs": [
    {
     "data": {
      "text/html": []
     },
     "metadata": {},
     "output_type": "display_data"
    }
   ],
   "source": [
    "INSERT INTO bird_orders (scientific_name, brief_description)\n",
    "VALUES('Anseriformes', \"Waterfowl\"),\n",
    "('Galliformes', \"Fowl\"),\n",
    "('Charadriiformes', \"Gulls, Button Quails, Plovers\"),\n",
    "('Gaviiformes', \"Loons\"),\n",
    "('Podicipediformes', \"Grebes\"),\n",
    "('Procellariiformes', \"Albatrosses, Petrels\"),\n",
    "('Sphenisciformes', \"Penguins\"),\n",
    "('Pelecaniformes', \"Pelicans\"),\n",
    "('Phaethontiformes', \"Tropicbirds\"),\n",
    "('Ciconiiformes', \"Storks\"),\n",
    "('Cathartiformes', \"New-World Vultures\"),\n",
    "('Phoenicopteriformes', \"Flamingos\"),\n",
    "('Falconiformes', \"Falcons, Eagles, Hawks\"),\n",
    "('Gruiformes', \"Cranes\"),\n",
    "('Pteroclidiformes', \"Sandgrouse\"),\n",
    "('Columbiformes', \"Doves and Pigeons\"),\n",
    "('Psittaciformes', \"Parrots\"),\n",
    "('Cuculiformes', \"Cuckoos and Turacos\"),\n",
    "('Opisthocomiformes', \"Hoatzin\"),\n",
    "('Strigiformes', \"Owls\"),\n",
    "('Struthioniformes', \"Ostriches, Emus, Kiwis\"),\n",
    "('Tinamiformes', \"Tinamous\"),\n",
    "('Caprimulgiformes', \"Nightjars\"),\n",
    "('Apodiformes', \"Swifts and Hummingbirds\"),\n",
    "('Coraciiformes', \"Kingfishers\"),\n",
    "('Piciformes', \"Woodpeckers\"),\n",
    "('Trogoniformes', \"Trogons\"),\n",
    "('Coliiformes', \"Mousebirds\"),\n",
    "('Passeriformes', \"Passerines\");"
   ]
  },
  {
   "cell_type": "markdown",
   "metadata": {},
   "source": [
    "### The Table for Bird Families"
   ]
  },
  {
   "cell_type": "code",
   "execution_count": 13,
   "metadata": {},
   "outputs": [
    {
     "data": {
      "text/html": [
       "<TABLE BORDER=1><TR><TH>Field</TH><TH>Type</TH><TH>Null</TH><TH>Key</TH><TH>Default</TH><TH>Extra</TH></TR><TR><TD>family_id</TD><TD>int(11)</TD><TD>NO</TD><TD>PRI</TD><TD>NULL</TD><TD>auto_increment</TD></TR><TR><TD>scientific_name</TD><TD>varchar(255)</TD><TD>YES</TD><TD>UNI</TD><TD>NULL</TD><TD></TD></TR><TR><TD>brief_description</TD><TD>varchar(255)</TD><TD>YES</TD><TD></TD><TD>NULL</TD><TD></TD></TR><TR><TD>order_id</TD><TD>int(11)</TD><TD>YES</TD><TD></TD><TD>NULL</TD><TD></TD></TR></TABLE>"
      ]
     },
     "metadata": {},
     "output_type": "display_data"
    },
    {
     "data": {
      "text/html": [
       "<TABLE BORDER=1><TR><TH>order_id</TH></TR><TR><TD>103</TD></TR></TABLE>"
      ]
     },
     "metadata": {},
     "output_type": "display_data"
    }
   ],
   "source": [
    "DESCRIBE bird_families;\n",
    "SELECT order_id FROM bird_orders\n",
    "WHERE scientific_name = 'Gaviiformes';"
   ]
  },
  {
   "cell_type": "code",
   "execution_count": 14,
   "metadata": {},
   "outputs": [
    {
     "data": {
      "text/html": []
     },
     "metadata": {},
     "output_type": "display_data"
    }
   ],
   "source": [
    "INSERT INTO bird_families\n",
    "VALUES(100, 'Gaviidae',\n",
    "\"Loons or divers are aquatic birds found mainly in the Northern Hemisphere.\",\n",
    "103);"
   ]
  },
  {
   "cell_type": "code",
   "execution_count": 15,
   "metadata": {},
   "outputs": [
    {
     "name": "stderr",
     "output_type": "stream",
     "text": [
      "ERROR 1366 (22007): Incorrect integer value: 'Anatidae' for column `rookery`.`bird_families`.`family_id` at row 1\n"
     ]
    }
   ],
   "source": [
    "INSERT INTO bird_families\n",
    "VALUES('Anatidae', \"This family includes ducks, geese and swans.\", NULL, 103);"
   ]
  },
  {
   "cell_type": "code",
   "execution_count": 16,
   "metadata": {},
   "outputs": [
    {
     "data": {
      "text/html": [
       "<TABLE BORDER=1><TR><TH>Level</TH><TH>Code</TH><TH>Message</TH></TR><TR><TD>Error</TD><TD>1366</TD><TD>Incorrect integer value: 'Anatidae' for column `rookery`.`bird_families`.`family_id` at row 1</TD></TR></TABLE>"
      ]
     },
     "metadata": {},
     "output_type": "display_data"
    }
   ],
   "source": [
    "SHOW WARNINGS;"
   ]
  },
  {
   "cell_type": "code",
   "execution_count": 17,
   "metadata": {},
   "outputs": [
    {
     "data": {
      "text/html": [
       "<TABLE BORDER=1><TR><TH>family_id</TH><TH>scientific_name</TH><TH>brief_description</TH><TH>order_id</TH></TR><TR><TD>100</TD><TD>Gaviidae</TD><TD>Loons or divers are aquatic birds found mainly in the Northern Hemisphere.</TD><TD>103</TD></TR></TABLE>"
      ]
     },
     "metadata": {},
     "output_type": "display_data"
    }
   ],
   "source": [
    "SELECT * FROM bird_families;"
   ]
  },
  {
   "cell_type": "code",
   "execution_count": 19,
   "metadata": {},
   "outputs": [
    {
     "data": {
      "text/html": []
     },
     "metadata": {},
     "output_type": "display_data"
    }
   ],
   "source": [
    "DELETE FROM bird_families\n",
    "WHERE family_id = 101;"
   ]
  },
  {
   "cell_type": "code",
   "execution_count": 20,
   "metadata": {},
   "outputs": [
    {
     "data": {
      "text/html": []
     },
     "metadata": {},
     "output_type": "display_data"
    }
   ],
   "source": [
    "INSERT INTO bird_families\n",
    "(scientific_name, order_id, brief_description)\n",
    "VALUES('Anatidae', 103, \"This family includes ducks, geese and swans.\");"
   ]
  },
  {
   "cell_type": "code",
   "execution_count": 21,
   "metadata": {},
   "outputs": [
    {
     "data": {
      "text/html": [
       "<TABLE BORDER=1><TR><TH>family_id</TH><TH>scientific_name</TH><TH>brief_description</TH><TH>order_id</TH></TR><TR><TD>100</TD><TD>Gaviidae</TD><TD>Loons or divers are aquatic birds found mainly in the Northern Hemisphere.</TD><TD>103</TD></TR><TR><TD>101</TD><TD>Anatidae</TD><TD>This family includes ducks, geese and swans.</TD><TD>103</TD></TR></TABLE>"
      ]
     },
     "metadata": {},
     "output_type": "display_data"
    }
   ],
   "source": [
    "SELECT * FROM bird_families;"
   ]
  },
  {
   "cell_type": "code",
   "execution_count": 22,
   "metadata": {},
   "outputs": [
    {
     "data": {
      "text/html": [
       "<TABLE BORDER=1><TR><TH>order_id</TH><TH>scientific_name</TH></TR><TR><TD>100</TD><TD>Anseriformes</TD></TR><TR><TD>123</TD><TD>Apodiformes</TD></TR><TR><TD>122</TD><TD>Caprimulgiformes</TD></TR><TR><TD>110</TD><TD>Cathartiformes</TD></TR><TR><TD>102</TD><TD>Charadriiformes</TD></TR><TR><TD>109</TD><TD>Ciconiiformes</TD></TR><TR><TD>127</TD><TD>Coliiformes</TD></TR><TR><TD>115</TD><TD>Columbiformes</TD></TR><TR><TD>124</TD><TD>Coraciiformes</TD></TR><TR><TD>117</TD><TD>Cuculiformes</TD></TR><TR><TD>112</TD><TD>Falconiformes</TD></TR><TR><TD>101</TD><TD>Galliformes</TD></TR><TR><TD>103</TD><TD>Gaviiformes</TD></TR><TR><TD>113</TD><TD>Gruiformes</TD></TR><TR><TD>118</TD><TD>Opisthocomiformes</TD></TR><TR><TD>128</TD><TD>Passeriformes</TD></TR><TR><TD>107</TD><TD>Pelecaniformes</TD></TR><TR><TD>108</TD><TD>Phaethontiformes</TD></TR><TR><TD>111</TD><TD>Phoenicopteriformes</TD></TR><TR><TD>125</TD><TD>Piciformes</TD></TR><TR><TD>104</TD><TD>Podicipediformes</TD></TR><TR><TD>105</TD><TD>Procellariiformes</TD></TR><TR><TD>116</TD><TD>Psittaciformes</TD></TR><TR><TD>114</TD><TD>Pteroclidiformes</TD></TR><TR><TD>106</TD><TD>Sphenisciformes</TD></TR><TR><TD>119</TD><TD>Strigiformes</TD></TR><TR><TD>120</TD><TD>Struthioniformes</TD></TR><TR><TD>121</TD><TD>Tinamiformes</TD></TR><TR><TD>126</TD><TD>Trogoniformes</TD></TR></TABLE>"
      ]
     },
     "metadata": {},
     "output_type": "display_data"
    }
   ],
   "source": [
    "SELECT order_id, scientific_name FROM bird_orders;"
   ]
  },
  {
   "cell_type": "code",
   "execution_count": 23,
   "metadata": {},
   "outputs": [
    {
     "data": {
      "text/html": []
     },
     "metadata": {},
     "output_type": "display_data"
    }
   ],
   "source": [
    "INSERT INTO bird_families\n",
    "(scientific_name, order_id)\n",
    "VALUES('Charadriidae', 109),\n",
    "('Laridae', 102),\n",
    "('Sternidae', 102),\n",
    "('Caprimulgidae', 122),\n",
    "('Sittidae', 128),\n",
    "('Picidae', 125),\n",
    "('Accipitridae', 112),\n",
    "('Tyrannidae', 128),\n",
    "('Formicariidae', 128),\n",
    "('Laniidae', 128);"
   ]
  },
  {
   "cell_type": "code",
   "execution_count": 24,
   "metadata": {},
   "outputs": [
    {
     "data": {
      "text/html": [
       "<TABLE BORDER=1><TR><TH>family_id</TH><TH>scientific_name</TH></TR><TR><TD>108</TD><TD>Accipitridae</TD></TR><TR><TD>101</TD><TD>Anatidae</TD></TR><TR><TD>105</TD><TD>Caprimulgidae</TD></TR><TR><TD>102</TD><TD>Charadriidae</TD></TR><TR><TD>110</TD><TD>Formicariidae</TD></TR><TR><TD>100</TD><TD>Gaviidae</TD></TR><TR><TD>111</TD><TD>Laniidae</TD></TR><TR><TD>103</TD><TD>Laridae</TD></TR><TR><TD>107</TD><TD>Picidae</TD></TR><TR><TD>106</TD><TD>Sittidae</TD></TR><TR><TD>104</TD><TD>Sternidae</TD></TR><TR><TD>109</TD><TD>Tyrannidae</TD></TR></TABLE>"
      ]
     },
     "metadata": {},
     "output_type": "display_data"
    }
   ],
   "source": [
    "SELECT family_id, scientific_name\n",
    "FROM bird_families\n",
    "ORDER BY scientific_name;"
   ]
  },
  {
   "cell_type": "code",
   "execution_count": 28,
   "metadata": {},
   "outputs": [
    {
     "data": {
      "text/html": [
       "<TABLE BORDER=1><TR><TH>Field</TH><TH>Type</TH><TH>Null</TH><TH>Key</TH><TH>Default</TH><TH>Extra</TH></TR><TR><TD>bird_id</TD><TD>int(11)</TD><TD>NO</TD><TD>PRI</TD><TD>NULL</TD><TD>auto_increment</TD></TR><TR><TD>scientific_name</TD><TD>varchar(255)</TD><TD>YES</TD><TD>UNI</TD><TD>NULL</TD><TD></TD></TR><TR><TD>common_name</TD><TD>varchar(255)</TD><TD>YES</TD><TD></TD><TD>NULL</TD><TD></TD></TR><TR><TD>family_id</TD><TD>int(11)</TD><TD>YES</TD><TD></TD><TD>NULL</TD><TD></TD></TR><TR><TD>wing_id</TD><TD>char(2)</TD><TD>YES</TD><TD></TD><TD>NULL</TD><TD></TD></TR><TR><TD>body_id</TD><TD>char(2)</TD><TD>YES</TD><TD></TD><TD>NULL</TD><TD></TD></TR><TR><TD>bill_id</TD><TD>char(2)</TD><TD>YES</TD><TD></TD><TD>NULL</TD><TD></TD></TR><TR><TD>endangered</TD><TD>bit(1)</TD><TD>YES</TD><TD></TD><TD>b'1'</TD><TD></TD></TR><TR><TD>description</TD><TD>text</TD><TD>YES</TD><TD></TD><TD>NULL</TD><TD></TD></TR></TABLE>"
      ]
     },
     "metadata": {},
     "output_type": "display_data"
    }
   ],
   "source": [
    "SHOW COLUMNS FROM birds;"
   ]
  },
  {
   "cell_type": "code",
   "execution_count": 27,
   "metadata": {},
   "outputs": [
    {
     "data": {
      "text/html": [
       "<TABLE BORDER=1><TR><TH>Field</TH><TH>Type</TH><TH>Null</TH><TH>Key</TH><TH>Default</TH><TH>Extra</TH></TR><TR><TD>bird_id</TD><TD>int(11)</TD><TD>NO</TD><TD>PRI</TD><TD>NULL</TD><TD>auto_increment</TD></TR><TR><TD>family_id</TD><TD>int(11)</TD><TD>YES</TD><TD></TD><TD>NULL</TD><TD></TD></TR><TR><TD>wing_id</TD><TD>char(2)</TD><TD>YES</TD><TD></TD><TD>NULL</TD><TD></TD></TR><TR><TD>body_id</TD><TD>char(2)</TD><TD>YES</TD><TD></TD><TD>NULL</TD><TD></TD></TR><TR><TD>bill_id</TD><TD>char(2)</TD><TD>YES</TD><TD></TD><TD>NULL</TD><TD></TD></TR></TABLE>"
      ]
     },
     "metadata": {},
     "output_type": "display_data"
    }
   ],
   "source": [
    "SHOW COLUMNS FROM birds LIKE '%id';"
   ]
  },
  {
   "cell_type": "markdown",
   "metadata": {},
   "source": [
    "### The Table for Birds"
   ]
  },
  {
   "cell_type": "code",
   "execution_count": 29,
   "metadata": {},
   "outputs": [
    {
     "data": {
      "text/html": []
     },
     "metadata": {},
     "output_type": "display_data"
    }
   ],
   "source": [
    "INSERT INTO birds\n",
    "(common_name, scientific_name, family_id)\n",
    "VALUES('Mountain Plover', 'Charadrius montanus', 103);"
   ]
  },
  {
   "cell_type": "code",
   "execution_count": 30,
   "metadata": {},
   "outputs": [
    {
     "data": {
      "text/html": []
     },
     "metadata": {},
     "output_type": "display_data"
    }
   ],
   "source": [
    "INSERT INTO birds\n",
    "(common_name, scientific_name, family_id)\n",
    "VALUES('Snowy Plover', 'Charadrius alexandrinus', 103),\n",
    "('Black-bellied Plover', 'Pluvialis squatarola', 103),\n",
    "('Pacific Golden Plover', 'Pluvialis fulva', 103);"
   ]
  },
  {
   "cell_type": "code",
   "execution_count": 31,
   "metadata": {},
   "outputs": [
    {
     "data": {
      "text/html": [
       "<TABLE BORDER=1><TR><TH>Bird</TH><TH>Scientific Name</TH><TH>Family</TH><TH>Order</TH></TR><TR><TD>Mountain Plover</TD><TD>Charadrius montanus</TD><TD>Laridae</TD><TD>Charadriiformes</TD></TR><TR><TD>Snowy Plover</TD><TD>Charadrius alexandrinus</TD><TD>Laridae</TD><TD>Charadriiformes</TD></TR><TR><TD>Black-bellied Plover</TD><TD>Pluvialis squatarola</TD><TD>Laridae</TD><TD>Charadriiformes</TD></TR><TR><TD>Pacific Golden Plover</TD><TD>Pluvialis fulva</TD><TD>Laridae</TD><TD>Charadriiformes</TD></TR></TABLE>"
      ]
     },
     "metadata": {},
     "output_type": "display_data"
    }
   ],
   "source": [
    "SELECT common_name AS 'Bird',\n",
    "birds.scientific_name AS 'Scientific Name',\n",
    "bird_families.scientific_name AS 'Family',\n",
    "bird_orders.scientific_name AS 'Order'\n",
    "FROM birds,\n",
    "bird_families,\n",
    "bird_orders\n",
    "WHERE birds.family_id = bird_families.family_id\n",
    "AND bird_families.order_id = bird_orders.order_id;"
   ]
  },
  {
   "cell_type": "markdown",
   "metadata": {},
   "source": [
    "### Inserting Emphatically"
   ]
  },
  {
   "cell_type": "code",
   "execution_count": 32,
   "metadata": {},
   "outputs": [
    {
     "data": {
      "text/html": []
     },
     "metadata": {},
     "output_type": "display_data"
    }
   ],
   "source": [
    "INSERT INTO bird_families\n",
    "SET scientific_name = 'Rallidae',\n",
    "order_id = 113;"
   ]
  },
  {
   "cell_type": "markdown",
   "metadata": {},
   "source": [
    "### Inserting Data from Another Table"
   ]
  },
  {
   "cell_type": "code",
   "execution_count": 34,
   "metadata": {},
   "outputs": [
    {
     "name": "stderr",
     "output_type": "stream",
     "text": [
      "ERROR 1146 (42S02): Table 'rookery.cornell_birds_families_orders' doesn't exist\n"
     ]
    }
   ],
   "source": [
    "DESCRIBE cornell_birds_families_orders;"
   ]
  },
  {
   "cell_type": "code",
   "execution_count": 35,
   "metadata": {},
   "outputs": [
    {
     "name": "stderr",
     "output_type": "stream",
     "text": [
      "ERROR 1146 (42S02): Table 'rookery.cornell_birds_families_orders' doesn't exist\n"
     ]
    }
   ],
   "source": [
    "SELECT * FROM cornell_birds_families_orders\n",
    "LIMIT 1;"
   ]
  },
  {
   "cell_type": "code",
   "execution_count": 36,
   "metadata": {},
   "outputs": [
    {
     "data": {
      "text/html": []
     },
     "metadata": {},
     "output_type": "display_data"
    }
   ],
   "source": [
    "ALTER TABLE bird_families\n",
    "ADD COLUMN cornell_bird_order VARCHAR(255);"
   ]
  },
  {
   "cell_type": "code",
   "execution_count": 37,
   "metadata": {},
   "outputs": [
    {
     "name": "stderr",
     "output_type": "stream",
     "text": [
      "ERROR 1060 (42S21): Duplicate column name 'cornell_bird_order'\n"
     ]
    }
   ],
   "source": [
    "ALTER TABLE bird_families\n",
    "ADD COLUMN cornell_bird_order VARCHAR(255);"
   ]
  },
  {
   "cell_type": "code",
   "execution_count": 38,
   "metadata": {},
   "outputs": [
    {
     "name": "stderr",
     "output_type": "stream",
     "text": [
      "ERROR 1146 (42S02): Table 'rookery.cornell_birds_families_orders' doesn't exist\n"
     ]
    }
   ],
   "source": [
    "INSERT IGNORE INTO bird_families\n",
    "(scientific_name, brief_description, cornell_bird_order)\n",
    "SELECT bird_family, examples, bird_order\n",
    "FROM cornell_birds_families_orders;"
   ]
  },
  {
   "cell_type": "code",
   "execution_count": 39,
   "metadata": {},
   "outputs": [
    {
     "data": {
      "text/html": [
       "<TABLE BORDER=1><TR><TH>family_id</TH><TH>scientific_name</TH><TH>brief_description</TH><TH>order_id</TH><TH>cornell_bird_order</TH></TR><TR><TD>112</TD><TD>Rallidae</TD><TD>NULL</TD><TD>113</TD><TD>NULL</TD></TR></TABLE>"
      ]
     },
     "metadata": {},
     "output_type": "display_data"
    }
   ],
   "source": [
    "SELECT * FROM bird_families\n",
    "ORDER BY family_id DESC LIMIT 1;"
   ]
  },
  {
   "cell_type": "markdown",
   "metadata": {},
   "source": [
    "### A Digression: Setting the Right ID"
   ]
  },
  {
   "cell_type": "code",
   "execution_count": 40,
   "metadata": {},
   "outputs": [
    {
     "data": {
      "text/html": []
     },
     "metadata": {},
     "output_type": "display_data"
    }
   ],
   "source": [
    "SELECT DISTINCT bird_orders.order_id,\n",
    "cornell_bird_order AS \"Cornell's Order\",\n",
    "bird_orders.scientific_name AS 'My Order'\n",
    "FROM bird_families, bird_orders\n",
    "WHERE bird_families.order_id IS NULL\n",
    "AND cornell_bird_order = bird_orders.scientific_name\n",
    "LIMIT 5;"
   ]
  },
  {
   "cell_type": "code",
   "execution_count": 41,
   "metadata": {},
   "outputs": [
    {
     "data": {
      "text/html": []
     },
     "metadata": {},
     "output_type": "display_data"
    }
   ],
   "source": [
    "UPDATE bird_families, bird_orders\n",
    "SET bird_families.order_id = bird_orders.order_id\n",
    "WHERE bird_families.order_id IS NULL\n",
    "AND cornell_bird_order = bird_orders.scientific_name;"
   ]
  },
  {
   "cell_type": "code",
   "execution_count": 42,
   "metadata": {},
   "outputs": [
    {
     "data": {
      "text/html": [
       "<TABLE BORDER=1><TR><TH>family_id</TH><TH>scientific_name</TH><TH>brief_description</TH><TH>order_id</TH><TH>cornell_bird_order</TH></TR><TR><TD>112</TD><TD>Rallidae</TD><TD>NULL</TD><TD>113</TD><TD>NULL</TD></TR><TR><TD>111</TD><TD>Laniidae</TD><TD>NULL</TD><TD>128</TD><TD>NULL</TD></TR><TR><TD>110</TD><TD>Formicariidae</TD><TD>NULL</TD><TD>128</TD><TD>NULL</TD></TR><TR><TD>109</TD><TD>Tyrannidae</TD><TD>NULL</TD><TD>128</TD><TD>NULL</TD></TR></TABLE>"
      ]
     },
     "metadata": {},
     "output_type": "display_data"
    }
   ],
   "source": [
    "SELECT * FROM bird_families\n",
    "ORDER BY family_id DESC LIMIT 4;"
   ]
  },
  {
   "cell_type": "code",
   "execution_count": 43,
   "metadata": {},
   "outputs": [
    {
     "data": {
      "text/html": [
       "<TABLE BORDER=1><TR><TH>order_id</TH><TH>scientific_name</TH><TH>brief_description</TH><TH>order_image</TH></TR><TR><TD>128</TD><TD>Passeriformes</TD><TD>Passerines</TD><TD>NULL</TD></TR></TABLE>"
      ]
     },
     "metadata": {},
     "output_type": "display_data"
    }
   ],
   "source": [
    "SELECT * FROM bird_orders\n",
    "WHERE order_id = 128;"
   ]
  },
  {
   "cell_type": "code",
   "execution_count": 44,
   "metadata": {},
   "outputs": [
    {
     "data": {
      "text/html": []
     },
     "metadata": {},
     "output_type": "display_data"
    }
   ],
   "source": [
    "SELECT family_id, scientific_name, brief_description\n",
    "FROM bird_families\n",
    "WHERE order_id IS NULL;"
   ]
  },
  {
   "cell_type": "code",
   "execution_count": 45,
   "metadata": {},
   "outputs": [
    {
     "data": {
      "text/html": []
     },
     "metadata": {},
     "output_type": "display_data"
    }
   ],
   "source": [
    "UPDATE bird_families\n",
    "SET order_id = 112\n",
    "WHERE cornell_bird_order = 'Accipitriformes';"
   ]
  },
  {
   "cell_type": "code",
   "execution_count": 46,
   "metadata": {},
   "outputs": [
    {
     "data": {
      "text/html": []
     },
     "metadata": {},
     "output_type": "display_data"
    },
    {
     "name": "stderr",
     "output_type": "stream",
     "text": [
      "ERROR 1051 (42S02): Unknown table 'rookery.cornell_birds_families_orders'\n"
     ]
    }
   ],
   "source": [
    "ALTER TABLE bird_families\n",
    "DROP COLUMN cornell_bird_order;\n",
    "DROP TABLE cornell_birds_families_orders;"
   ]
  },
  {
   "cell_type": "markdown",
   "metadata": {},
   "source": [
    "### Replacing Data"
   ]
  },
  {
   "cell_type": "code",
   "execution_count": 47,
   "metadata": {},
   "outputs": [
    {
     "data": {
      "text/html": []
     },
     "metadata": {},
     "output_type": "display_data"
    }
   ],
   "source": [
    "REPLACE INTO bird_families\n",
    "(scientific_name, brief_description, order_id)\n",
    "VALUES('Viduidae', 'Indigobirds & Whydahs', 128),\n",
    "('Estrildidae', 'Waxbills, Weaver Finches, & Allies', 128),\n",
    "('Ploceidae', 'Weavers, Malimbe, & Bishops', 128);"
   ]
  },
  {
   "cell_type": "code",
   "execution_count": 48,
   "metadata": {},
   "outputs": [
    {
     "data": {
      "text/html": [
       "<TABLE BORDER=1><TR><TH>family_id</TH><TH>scientific_name</TH><TH>brief_description</TH><TH>order_id</TH></TR><TR><TD>113</TD><TD>Viduidae</TD><TD>Indigobirds &amp; Whydahs</TD><TD>128</TD></TR></TABLE>"
      ]
     },
     "metadata": {},
     "output_type": "display_data"
    }
   ],
   "source": [
    "SELECT * FROM bird_families\n",
    "WHERE scientific_name = 'Viduidae';"
   ]
  },
  {
   "cell_type": "markdown",
   "metadata": {},
   "source": [
    "### Priorities When Inserting Data"
   ]
  },
  {
   "cell_type": "code",
   "execution_count": 51,
   "metadata": {},
   "outputs": [
    {
     "name": "stderr",
     "output_type": "stream",
     "text": [
      "ERROR 1064 (42000): You have an error in your SQL syntax; check the manual that corresponds to your MariaDB server version for the right syntax to use near '' at line 1\n"
     ]
    }
   ],
   "source": [
    "INSERT LOW_PRIORITY INTO bird_sightings;"
   ]
  },
  {
   "cell_type": "markdown",
   "metadata": {},
   "source": [
    "### Summary"
   ]
  },
  {
   "cell_type": "markdown",
   "metadata": {},
   "source": [
    "At this point, you should have a good understanding of MySQL and MariaDB. You\n",
    "should understand the basic structure of a database and its tables. You should now see\n",
    "the value of having smaller multiple tables. You should no longer envision a database\n",
    "as one large table or like a spreadsheet. You should have a good sense of columns and\n",
    "how to enter data into them, especially if you have done all of the exercises at the end\n",
    "of the previous two chapters. You should not be overwhelmed at this point.\n",
    "Chapter 7 delves more deeply into how to retrieve data from tables using the SELECT\n",
    "statement. We have already touched on this SQL statement several times. However, you\n",
    "saw only a sampling of how you might use SELECT in this chapter and in previous ones, to give you a sense of why we were creating and adding data the way we did to tables.\n",
    "The next chapter will cover the SELECT statement in much more detail.\n",
    "The INSERT, SELECT, and the UPDATE statements are the most used SQL statements. If\n",
    "you want to learn MySQL and MariaDB well, you need to know these statements well.\n",
    "You need to know how to do the basics, as well as be familiar with the more specialized\n",
    "aspects of using SELECT. You’ll accomplish that in the next chapter.\n",
    "Before moving on to the next chapter, though, complete the following exercises. They\n",
    "will help you to retain what you’ve learned about the INSERT statement in this chapter.\n",
    "Don’t skip them. This is useful and necessary to building a solid foundation in learning\n",
    "MySQL and MariaDB."
   ]
  }
 ],
 "metadata": {
  "kernelspec": {
   "display_name": "MariaDB",
   "language": "SQL",
   "name": "mariadb_kernel"
  },
  "language_info": {
   "file_extension": ".sql",
   "mimetype": "text/plain",
   "name": "SQL"
  }
 },
 "nbformat": 4,
 "nbformat_minor": 4
}
