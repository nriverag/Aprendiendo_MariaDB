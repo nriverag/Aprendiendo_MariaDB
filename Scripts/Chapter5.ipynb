{
 "cells": [
  {
   "cell_type": "markdown",
   "metadata": {},
   "source": [
    "# Altering Tables"
   ]
  },
  {
   "cell_type": "markdown",
   "metadata": {},
   "source": [
    "### Prudence When Altering Tables"
   ]
  },
  {
   "cell_type": "code",
   "execution_count": 1,
   "metadata": {},
   "outputs": [
    {
     "name": "stderr",
     "output_type": "stream",
     "text": [
      "ERROR 1064 (42000): You have an error in your SQL syntax; check the manual that corresponds to your MariaDB server version for the right syntax to use near 'mysqldump --user='russell' -p rookery birds > /tmp/birds.sql' at line 1\n"
     ]
    }
   ],
   "source": [
    "mysqldump --user='russell' -p \n",
    "rookery birds > /tmp/birds.sql;"
   ]
  },
  {
   "cell_type": "code",
   "execution_count": 3,
   "metadata": {},
   "outputs": [
    {
     "name": "stderr",
     "output_type": "stream",
     "text": [
      "ERROR 1064 (42000): You have an error in your SQL syntax; check the manual that corresponds to your MariaDB server version for the right syntax to use near 'mysqldump --user='russell' -p rookery > rookery.sql' at line 1\n"
     ]
    }
   ],
   "source": [
    "mysqldump --user='russell' -p \n",
    "rookery > rookery.sql;"
   ]
  },
  {
   "cell_type": "markdown",
   "metadata": {},
   "source": [
    "### Essential Changes"
   ]
  },
  {
   "cell_type": "code",
   "execution_count": 4,
   "metadata": {},
   "outputs": [
    {
     "name": "stderr",
     "output_type": "stream",
     "text": [
      "ERROR 1046 (3D000): No database selected\n"
     ]
    }
   ],
   "source": [
    "ALTER TABLE table_name changes;"
   ]
  },
  {
   "cell_type": "code",
   "execution_count": 6,
   "metadata": {},
   "outputs": [
    {
     "data": {
      "text/html": [
       "<TABLE BORDER=1><TR><TH>Database</TH></TR><TR><TD>birdwatchers</TD></TR><TR><TD>information_schema</TD></TR><TR><TD>mysql</TD></TR><TR><TD>performance_schema</TD></TR><TR><TD>rookery</TD></TR><TR><TD>test</TD></TR></TABLE>"
      ]
     },
     "metadata": {},
     "output_type": "display_data"
    }
   ],
   "source": [
    "SHOW DATABASES;"
   ]
  },
  {
   "cell_type": "code",
   "execution_count": 12,
   "metadata": {},
   "outputs": [
    {
     "data": {
      "text/html": []
     },
     "metadata": {},
     "output_type": "display_data"
    }
   ],
   "source": [
    "USE rookery;"
   ]
  },
  {
   "cell_type": "code",
   "execution_count": 13,
   "metadata": {},
   "outputs": [
    {
     "data": {
      "text/html": [
       "<TABLE BORDER=1><TR><TH>Tables_in_rookery</TH></TR><TR><TD>bird_families</TD></TR><TR><TD>bird_orders</TD></TR><TR><TD>birds</TD></TR></TABLE>"
      ]
     },
     "metadata": {},
     "output_type": "display_data"
    }
   ],
   "source": [
    "SHOW TABLES;"
   ]
  },
  {
   "cell_type": "code",
   "execution_count": 14,
   "metadata": {},
   "outputs": [
    {
     "data": {
      "text/html": []
     },
     "metadata": {},
     "output_type": "display_data"
    }
   ],
   "source": [
    "ALTER TABLE bird_families\n",
    "ADD COLUMN order_id INT;"
   ]
  },
  {
   "cell_type": "code",
   "execution_count": 15,
   "metadata": {},
   "outputs": [
    {
     "data": {
      "text/html": []
     },
     "metadata": {},
     "output_type": "display_data"
    }
   ],
   "source": [
    "CREATE TABLE test.birds_new LIKE birds;"
   ]
  },
  {
   "cell_type": "code",
   "execution_count": 17,
   "metadata": {},
   "outputs": [
    {
     "data": {
      "text/html": []
     },
     "metadata": {},
     "output_type": "display_data"
    },
    {
     "data": {
      "text/html": [
       "<TABLE BORDER=1><TR><TH>Field</TH><TH>Type</TH><TH>Null</TH><TH>Key</TH><TH>Default</TH><TH>Extra</TH></TR><TR><TD>bird_id</TD><TD>int(11)</TD><TD>NO</TD><TD>PRI</TD><TD>NULL</TD><TD>auto_increment</TD></TR><TR><TD>scientific_name</TD><TD>varchar(255)</TD><TD>YES</TD><TD>UNI</TD><TD>NULL</TD><TD></TD></TR><TR><TD>common_name</TD><TD>varchar(50)</TD><TD>YES</TD><TD></TD><TD>NULL</TD><TD></TD></TR><TR><TD>family_id</TD><TD>int(11)</TD><TD>YES</TD><TD></TD><TD>NULL</TD><TD></TD></TR><TR><TD>description</TD><TD>text</TD><TD>YES</TD><TD></TD><TD>NULL</TD><TD></TD></TR></TABLE>"
      ]
     },
     "metadata": {},
     "output_type": "display_data"
    }
   ],
   "source": [
    "USE test;\n",
    "DESCRIBE birds_new;"
   ]
  },
  {
   "cell_type": "code",
   "execution_count": 18,
   "metadata": {},
   "outputs": [
    {
     "data": {
      "text/html": []
     },
     "metadata": {},
     "output_type": "display_data"
    }
   ],
   "source": [
    "INSERT INTO birds_new\n",
    "SELECT * FROM rookery.birds;"
   ]
  },
  {
   "cell_type": "code",
   "execution_count": 19,
   "metadata": {},
   "outputs": [
    {
     "data": {
      "text/html": []
     },
     "metadata": {},
     "output_type": "display_data"
    }
   ],
   "source": [
    "CREATE TABLE birds_new_alternative\n",
    "SELECT * FROM rookery.birds;"
   ]
  },
  {
   "cell_type": "code",
   "execution_count": 20,
   "metadata": {},
   "outputs": [
    {
     "data": {
      "text/html": []
     },
     "metadata": {},
     "output_type": "display_data"
    }
   ],
   "source": [
    "DROP TABLE birds_new_alternative;"
   ]
  },
  {
   "cell_type": "code",
   "execution_count": 21,
   "metadata": {},
   "outputs": [
    {
     "data": {
      "text/html": []
     },
     "metadata": {},
     "output_type": "display_data"
    }
   ],
   "source": [
    "ALTER TABLE birds_new\n",
    "ADD COLUMN wing_id CHAR(2);"
   ]
  },
  {
   "cell_type": "code",
   "execution_count": 22,
   "metadata": {},
   "outputs": [
    {
     "data": {
      "text/html": [
       "<TABLE BORDER=1><TR><TH>Field</TH><TH>Type</TH><TH>Null</TH><TH>Key</TH><TH>Default</TH><TH>Extra</TH></TR><TR><TD>bird_id</TD><TD>int(11)</TD><TD>NO</TD><TD>PRI</TD><TD>NULL</TD><TD>auto_increment</TD></TR><TR><TD>scientific_name</TD><TD>varchar(255)</TD><TD>YES</TD><TD>UNI</TD><TD>NULL</TD><TD></TD></TR><TR><TD>common_name</TD><TD>varchar(50)</TD><TD>YES</TD><TD></TD><TD>NULL</TD><TD></TD></TR><TR><TD>family_id</TD><TD>int(11)</TD><TD>YES</TD><TD></TD><TD>NULL</TD><TD></TD></TR><TR><TD>description</TD><TD>text</TD><TD>YES</TD><TD></TD><TD>NULL</TD><TD></TD></TR><TR><TD>wing_id</TD><TD>char(2)</TD><TD>YES</TD><TD></TD><TD>NULL</TD><TD></TD></TR></TABLE>"
      ]
     },
     "metadata": {},
     "output_type": "display_data"
    }
   ],
   "source": [
    "DESCRIBE birds_new;"
   ]
  },
  {
   "cell_type": "code",
   "execution_count": 23,
   "metadata": {},
   "outputs": [
    {
     "data": {
      "text/html": []
     },
     "metadata": {},
     "output_type": "display_data"
    }
   ],
   "source": [
    "ALTER TABLE birds_new\n",
    "DROP COLUMN wing_id;"
   ]
  },
  {
   "cell_type": "code",
   "execution_count": 24,
   "metadata": {},
   "outputs": [
    {
     "data": {
      "text/html": []
     },
     "metadata": {},
     "output_type": "display_data"
    }
   ],
   "source": [
    "ALTER TABLE birds_new\n",
    "ADD COLUMN wing_id CHAR(2) AFTER family_id;"
   ]
  },
  {
   "cell_type": "code",
   "execution_count": 25,
   "metadata": {},
   "outputs": [
    {
     "data": {
      "text/html": []
     },
     "metadata": {},
     "output_type": "display_data"
    }
   ],
   "source": [
    "ALTER TABLE birds_new\n",
    "ADD COLUMN body_id CHAR(2) AFTER wing_id,\n",
    "ADD COLUMN bill_id CHAR(2) AFTER body_id,\n",
    "ADD COLUMN endangered BIT DEFAULT b'1' AFTER bill_id,\n",
    "CHANGE COLUMN common_name common_name VARCHAR(255);"
   ]
  },
  {
   "cell_type": "code",
   "execution_count": 26,
   "metadata": {},
   "outputs": [
    {
     "data": {
      "text/html": []
     },
     "metadata": {},
     "output_type": "display_data"
    }
   ],
   "source": [
    "UPDATE birds_new SET endangered = 0\n",
    "WHERE bird_id IN(1,2,4,5);"
   ]
  },
  {
   "cell_type": "code",
   "execution_count": 27,
   "metadata": {},
   "outputs": [
    {
     "data": {
      "text/html": [
       "<TABLE BORDER=1><TR><TH>bird_id</TH><TH>scientific_name</TH><TH>common_name</TH></TR><TR><TD>3</TD><TD>Aix sponsa</TD><TD>Wood Duck</TD></TR><TR><TD>6</TD><TD>Apteryx mantelli</TD><TD>North Island Brown Kiwi</TD></TR></TABLE>"
      ]
     },
     "metadata": {},
     "output_type": "display_data"
    }
   ],
   "source": [
    "SELECT bird_id, scientific_name, common_name\n",
    "FROM birds_new\n",
    "WHERE endangered;"
   ]
  },
  {
   "cell_type": "code",
   "execution_count": 29,
   "metadata": {},
   "outputs": [
    {
     "data": {
      "text/html": [
       "<TABLE BORDER=1><TR><TH>bird_id</TH><TH>scientific_name</TH><TH>common_name</TH><TH>family_id</TH><TH>wing_id</TH><TH>body_id</TH><TH>bill_id</TH><TH>endangered</TH><TH>description</TH></TR><TR><TD>1</TD><TD>Charadrius vociferus</TD><TD>Killdeer</TD><TD>NULL</TD><TD>NULL</TD><TD>NULL</TD><TD>NULL</TD><TD> </TD><TD>NULL</TD></TR><TR><TD>2</TD><TD>Gavia immer</TD><TD>Great Northern Loon</TD><TD>NULL</TD><TD>NULL</TD><TD>NULL</TD><TD>NULL</TD><TD> </TD><TD>NULL</TD></TR><TR><TD>4</TD><TD>Chordeiles minor</TD><TD>Common Nighthawk</TD><TD>NULL</TD><TD>NULL</TD><TD>NULL</TD><TD>NULL</TD><TD> </TD><TD>NULL</TD></TR><TR><TD>5</TD><TD>Sitta carolinensis</TD><TD> White-breasted Nuthatch</TD><TD>NULL</TD><TD>NULL</TD><TD>NULL</TD><TD>NULL</TD><TD> </TD><TD>NULL</TD></TR></TABLE>"
      ]
     },
     "metadata": {},
     "output_type": "display_data"
    }
   ],
   "source": [
    "SELECT * FROM birds_new\n",
    "WHERE NOT endangered;"
   ]
  },
  {
   "cell_type": "code",
   "execution_count": 30,
   "metadata": {},
   "outputs": [
    {
     "name": "stderr",
     "output_type": "stream",
     "text": [
      "ERROR 1265 (01000): Data truncated for column 'endangered' at row 1\n"
     ]
    }
   ],
   "source": [
    "ALTER TABLE birds_new\n",
    "MODIFY COLUMN endangered\n",
    "ENUM('Extinct',\n",
    "'Extinct in Wild',\n",
    "'Threatened - Critically Endangered',\n",
    "'Threatened - Endangered',\n",
    "'Threatened - Vulnerable',\n",
    "'Lower Risk - Conservation Dependent',\n",
    "'Lower Risk - Near Threatened',\n",
    "'Lower Risk - Least Concern')\n",
    "AFTER family_id;"
   ]
  },
  {
   "cell_type": "code",
   "execution_count": 32,
   "metadata": {},
   "outputs": [
    {
     "data": {
      "text/html": [
       "<TABLE BORDER=1><TR><TH>Field</TH><TH>Type</TH><TH>Null</TH><TH>Key</TH><TH>Default</TH><TH>Extra</TH></TR><TR><TD>endangered</TD><TD>bit(1)</TD><TD>YES</TD><TD></TD><TD>b'1'</TD><TD></TD></TR></TABLE>"
      ]
     },
     "metadata": {},
     "output_type": "display_data"
    }
   ],
   "source": [
    "SHOW COLUMNS FROM birds_new LIKE 'endangered'"
   ]
  },
  {
   "cell_type": "code",
   "execution_count": 34,
   "metadata": {},
   "outputs": [
    {
     "name": "stderr",
     "output_type": "stream",
     "text": [
      "ERROR 1406 (22001): Data too long for column 'endangered' at row 1\n"
     ]
    }
   ],
   "source": [
    "UPDATE birds_new\n",
    "SET endangered = 7;"
   ]
  },
  {
   "cell_type": "markdown",
   "metadata": {},
   "source": [
    "### Dynamic Columns"
   ]
  },
  {
   "cell_type": "code",
   "execution_count": 35,
   "metadata": {},
   "outputs": [
    {
     "data": {
      "text/html": []
     },
     "metadata": {},
     "output_type": "display_data"
    },
    {
     "data": {
      "text/html": []
     },
     "metadata": {},
     "output_type": "display_data"
    },
    {
     "data": {
      "text/html": []
     },
     "metadata": {},
     "output_type": "display_data"
    },
    {
     "data": {
      "text/html": []
     },
     "metadata": {},
     "output_type": "display_data"
    }
   ],
   "source": [
    "USE birdwatchers;\n",
    "CREATE TABLE surveys\n",
    "(survey_id INT AUTO_INCREMENT KEY,\n",
    "survey_name VARCHAR(255));\n",
    "CREATE TABLE survey_questions\n",
    "(question_id INT AUTO_INCREMENT KEY,\n",
    "survey_id INT,\n",
    "question VARCHAR(255),\n",
    "choices BLOB);\n",
    "CREATE TABLE survey_answers\n",
    "(answer_id INT AUTO_INCREMENT KEY,\n",
    "human_id INT,\n",
    "question_id INT,\n",
    "date_answered DATETIME,\n",
    "answer VARCHAR(255));"
   ]
  },
  {
   "cell_type": "code",
   "execution_count": 36,
   "metadata": {},
   "outputs": [
    {
     "data": {
      "text/html": []
     },
     "metadata": {},
     "output_type": "display_data"
    },
    {
     "data": {
      "text/html": []
     },
     "metadata": {},
     "output_type": "display_data"
    },
    {
     "data": {
      "text/html": []
     },
     "metadata": {},
     "output_type": "display_data"
    },
    {
     "data": {
      "text/html": []
     },
     "metadata": {},
     "output_type": "display_data"
    }
   ],
   "source": [
    "INSERT INTO surveys (survey_name)\n",
    "VALUES(\"Favorite Birding Location\");\n",
    "INSERT INTO survey_questions\n",
    "(survey_id, question, choices)\n",
    "VALUES(LAST_INSERT_ID(),\n",
    "\"What's your favorite setting for bird-watching?\",\n",
    "COLUMN_CREATE('1', 'forest', '2', 'shore', '3', 'backyard') );\n",
    "INSERT INTO surveys (survey_name)\n",
    "VALUES(\"Preferred Birds\");\n",
    "INSERT INTO survey_questions\n",
    "(survey_id, question, choices)\n",
    "VALUES(LAST_INSERT_ID(),\n",
    "\"Which type of birds do you like best?\",\n",
    "COLUMN_CREATE('1', 'perching', '2', 'shore', '3', 'fowl', '4', 'rapture') );"
   ]
  },
  {
   "cell_type": "code",
   "execution_count": 37,
   "metadata": {},
   "outputs": [
    {
     "data": {
      "text/html": [
       "<TABLE BORDER=1><TR><TH>Location</TH></TR><TR><TD>backyard</TD></TR></TABLE>"
      ]
     },
     "metadata": {},
     "output_type": "display_data"
    }
   ],
   "source": [
    "SELECT COLUMN_GET(choices, 3 AS CHAR)\n",
    "AS 'Location'\n",
    "FROM survey_questions\n",
    "WHERE survey_id = 1;"
   ]
  },
  {
   "cell_type": "code",
   "execution_count": 38,
   "metadata": {},
   "outputs": [
    {
     "data": {
      "text/html": []
     },
     "metadata": {},
     "output_type": "display_data"
    }
   ],
   "source": [
    "INSERT INTO survey_answers\n",
    "(human_id, question_id, date_answered, answer)\n",
    "VALUES\n",
    "(29, 1, NOW(), 2),\n",
    "(29, 2, NOW(), 2),\n",
    "(35, 1, NOW(), 1),\n",
    "(35, 2, NOW(), 1),\n",
    "(26, 1, NOW(), 2),\n",
    "(26, 2, NOW(), 1),\n",
    "(27, 1, NOW(), 2),\n",
    "(27, 2, NOW(), 4),\n",
    "(16, 1, NOW(), 3),\n",
    "(3, 1, NOW(), 1),\n",
    "(3, 2, NOW(), 1);"
   ]
  },
  {
   "cell_type": "code",
   "execution_count": 39,
   "metadata": {},
   "outputs": [
    {
     "data": {
      "text/html": [
       "<TABLE BORDER=1><TR><TH>Birding Site</TH><TH>Votes</TH></TR><TR><TD>forest</TD><TD>2</TD></TR><TR><TD>shore</TD><TD>3</TD></TR><TR><TD>backyard</TD><TD>1</TD></TR><TR><TD>total</TD><TD>6</TD></TR></TABLE>"
      ]
     },
     "metadata": {},
     "output_type": "display_data"
    }
   ],
   "source": [
    "SELECT IFNULL(COLUMN_GET(choices, answer AS CHAR), 'total')\n",
    "AS 'Birding Site', COUNT(*) AS 'Votes'\n",
    "FROM survey_answers\n",
    "JOIN survey_questions USING(question_id)\n",
    "WHERE survey_id = 1\n",
    "AND question_id = 1\n",
    "GROUP BY answer WITH ROLLUP;"
   ]
  },
  {
   "cell_type": "markdown",
   "metadata": {},
   "source": [
    "### Setting a Column’s Default Value"
   ]
  },
  {
   "cell_type": "code",
   "execution_count": 40,
   "metadata": {},
   "outputs": [
    {
     "data": {
      "text/html": []
     },
     "metadata": {},
     "output_type": "display_data"
    }
   ],
   "source": [
    "CREATE TABLE rookery.conservation_status\n",
    "(status_id INT AUTO_INCREMENT PRIMARY KEY,\n",
    "conservation_category CHAR(10),\n",
    "conservation_state CHAR(25) );"
   ]
  },
  {
   "cell_type": "code",
   "execution_count": 41,
   "metadata": {},
   "outputs": [
    {
     "data": {
      "text/html": []
     },
     "metadata": {},
     "output_type": "display_data"
    }
   ],
   "source": [
    "INSERT INTO rookery.conservation_status\n",
    "(conservation_category, conservation_state)\n",
    "VALUES('Extinct','Extinct'),\n",
    "('Extinct','Extinct in Wild'),\n",
    "('Threatened','Critically Endangered'),\n",
    "('Threatened','Endangered'),\n",
    "('Threatened','Vulnerable'),\n",
    "('Lower Risk','Conservation Dependent'),\n",
    "('Lower Risk','Near Threatened'),\n",
    "('Lower Risk','Least Concern');"
   ]
  },
  {
   "cell_type": "code",
   "execution_count": 42,
   "metadata": {},
   "outputs": [
    {
     "data": {
      "text/html": [
       "<TABLE BORDER=1><TR><TH>status_id</TH><TH>conservation_category</TH><TH>conservation_state</TH></TR><TR><TD>1</TD><TD>Extinct</TD><TD>Extinct</TD></TR><TR><TD>2</TD><TD>Extinct</TD><TD>Extinct in Wild</TD></TR><TR><TD>3</TD><TD>Threatened</TD><TD>Critically Endangered</TD></TR><TR><TD>4</TD><TD>Threatened</TD><TD>Endangered</TD></TR><TR><TD>5</TD><TD>Threatened</TD><TD>Vulnerable</TD></TR><TR><TD>6</TD><TD>Lower Risk</TD><TD>Conservation Dependent</TD></TR><TR><TD>7</TD><TD>Lower Risk</TD><TD>Near Threatened</TD></TR><TR><TD>8</TD><TD>Lower Risk</TD><TD>Least Concern</TD></TR></TABLE>"
      ]
     },
     "metadata": {},
     "output_type": "display_data"
    }
   ],
   "source": [
    "SELECT * FROM rookery.conservation_status;"
   ]
  },
  {
   "cell_type": "code",
   "execution_count": 44,
   "metadata": {},
   "outputs": [
    {
     "name": "stderr",
     "output_type": "stream",
     "text": [
      "ERROR 1146 (42S02): Table 'birdwatchers.birds_new' doesn't exist\n"
     ]
    }
   ],
   "source": [
    "ALTER TABLE birds_new\n",
    "CHANGE COLUMN endangered conservation_status_id INT DEFAULT 8;"
   ]
  },
  {
   "cell_type": "code",
   "execution_count": 45,
   "metadata": {},
   "outputs": [
    {
     "name": "stderr",
     "output_type": "stream",
     "text": [
      "ERROR 1146 (42S02): Table 'birdwatchers.birds_new' doesn't exist\n"
     ]
    }
   ],
   "source": [
    "ALTER TABLE birds_new\n",
    "ALTER conservation_status_id SET DEFAULT 7;"
   ]
  },
  {
   "cell_type": "code",
   "execution_count": 46,
   "metadata": {},
   "outputs": [
    {
     "name": "stderr",
     "output_type": "stream",
     "text": [
      "ERROR 1064 (42000): You have an error in your SQL syntax; check the manual that corresponds to your MariaDB server version for the right syntax to use near 'statement only for that column: SHOW COLUMNS FROM birds_new LIKE 'conservatio...' at line 1\n"
     ]
    }
   ],
   "source": [
    "statement\n",
    "only for that column:\n",
    "SHOW COLUMNS FROM birds_new LIKE 'conservation_status_id';"
   ]
  },
  {
   "cell_type": "code",
   "execution_count": 48,
   "metadata": {},
   "outputs": [
    {
     "name": "stderr",
     "output_type": "stream",
     "text": [
      "ERROR 1146 (42S02): Table 'birdwatchers.birds_new' doesn't exist\n"
     ]
    }
   ],
   "source": [
    "ALTER TABLE birds_new\n",
    "ALTER conservation_status_id DROP DEFAULT;"
   ]
  },
  {
   "cell_type": "markdown",
   "metadata": {},
   "source": [
    "### Setting the Value of AUTO_INCREMENT"
   ]
  },
  {
   "cell_type": "code",
   "execution_count": 49,
   "metadata": {},
   "outputs": [
    {
     "data": {
      "text/html": [
       "<TABLE BORDER=1><TR><TH>auto_increment</TH></TR><TR><TD>7</TD></TR></TABLE>"
      ]
     },
     "metadata": {},
     "output_type": "display_data"
    }
   ],
   "source": [
    "SELECT auto_increment\n",
    "FROM information_schema.tables\n",
    "WHERE table_name = 'birds';"
   ]
  },
  {
   "cell_type": "code",
   "execution_count": 50,
   "metadata": {},
   "outputs": [
    {
     "data": {
      "text/html": []
     },
     "metadata": {},
     "output_type": "display_data"
    }
   ],
   "source": [
    "USE rookery\n",
    "ALTER TABLE birds\n",
    "AUTO_INCREMENT = 10;"
   ]
  },
  {
   "cell_type": "markdown",
   "metadata": {},
   "source": [
    "### Another Method to Alter and Create a Table"
   ]
  },
  {
   "cell_type": "code",
   "execution_count": 51,
   "metadata": {},
   "outputs": [
    {
     "data": {
      "text/html": [
       "<TABLE BORDER=1><TR><TH>Field</TH><TH>Type</TH><TH>Null</TH><TH>Key</TH><TH>Default</TH><TH>Extra</TH></TR><TR><TD>bird_id</TD><TD>int(11)</TD><TD>NO</TD><TD>PRI</TD><TD>NULL</TD><TD>auto_increment</TD></TR><TR><TD>scientific_name</TD><TD>varchar(255)</TD><TD>YES</TD><TD>UNI</TD><TD>NULL</TD><TD></TD></TR><TR><TD>common_name</TD><TD>varchar(50)</TD><TD>YES</TD><TD></TD><TD>NULL</TD><TD></TD></TR><TR><TD>family_id</TD><TD>int(11)</TD><TD>YES</TD><TD></TD><TD>NULL</TD><TD></TD></TR><TR><TD>description</TD><TD>text</TD><TD>YES</TD><TD></TD><TD>NULL</TD><TD></TD></TR></TABLE>"
      ]
     },
     "metadata": {},
     "output_type": "display_data"
    },
    {
     "name": "stderr",
     "output_type": "stream",
     "text": [
      "ERROR 1146 (42S02): Table 'rookery.birds_new' doesn't exist\n",
      "ERROR 1146 (42S02): Table 'rookery.birds_new' doesn't exist\n"
     ]
    }
   ],
   "source": [
    "DESCRIBE birds;\n",
    "DESCRIBE birds_new;\n",
    "SELECT * FROM birds_new;"
   ]
  },
  {
   "cell_type": "code",
   "execution_count": 52,
   "metadata": {},
   "outputs": [
    {
     "data": {
      "text/html": [
       "<TABLE BORDER=1><TR><TH>Table</TH><TH>Create Table</TH></TR><TR><TD>birds</TD><TD>CREATE TABLE `birds` ("
      ]
     },
     "metadata": {},
     "output_type": "display_data"
    }
   ],
   "source": [
    "SHOW CREATE TABLE birds;"
   ]
  },
  {
   "cell_type": "code",
   "execution_count": 53,
   "metadata": {},
   "outputs": [
    {
     "name": "stderr",
     "output_type": "stream",
     "text": [
      "ERROR 1146 (42S02): Table 'rookery.birds_new' doesn't exist\n"
     ]
    }
   ],
   "source": [
    "ALTER TABLE birds_new\n",
    "AUTO_INCREMENT = 6;"
   ]
  },
  {
   "cell_type": "code",
   "execution_count": 54,
   "metadata": {},
   "outputs": [
    {
     "data": {
      "text/html": []
     },
     "metadata": {},
     "output_type": "display_data"
    }
   ],
   "source": [
    "CREATE TABLE birds_details\n",
    "SELECT bird_id, description\n",
    "FROM birds;"
   ]
  },
  {
   "cell_type": "code",
   "execution_count": 55,
   "metadata": {},
   "outputs": [
    {
     "data": {
      "text/html": [
       "<TABLE BORDER=1><TR><TH>Field</TH><TH>Type</TH><TH>Null</TH><TH>Key</TH><TH>Default</TH><TH>Extra</TH></TR><TR><TD>bird_id</TD><TD>int(11)</TD><TD>NO</TD><TD></TD><TD>0</TD><TD></TD></TR><TR><TD>description</TD><TD>text</TD><TD>YES</TD><TD></TD><TD>NULL</TD><TD></TD></TR></TABLE>"
      ]
     },
     "metadata": {},
     "output_type": "display_data"
    }
   ],
   "source": [
    "DESCRIBE birds_details;"
   ]
  },
  {
   "cell_type": "code",
   "execution_count": 56,
   "metadata": {},
   "outputs": [
    {
     "data": {
      "text/html": []
     },
     "metadata": {},
     "output_type": "display_data"
    }
   ],
   "source": [
    "ALTER TABLE birds\n",
    "DROP COLUMN description;"
   ]
  },
  {
   "cell_type": "markdown",
   "metadata": {},
   "source": [
    "### Renaming a Table"
   ]
  },
  {
   "cell_type": "code",
   "execution_count": 57,
   "metadata": {},
   "outputs": [
    {
     "name": "stderr",
     "output_type": "stream",
     "text": [
      "ERROR 1146 (42S02): Table 'rookery.table1_altered' doesn't exist\n"
     ]
    }
   ],
   "source": [
    "RENAME TABLE table1_altered\n",
    "TO table1;"
   ]
  },
  {
   "cell_type": "code",
   "execution_count": 58,
   "metadata": {},
   "outputs": [
    {
     "data": {
      "text/html": []
     },
     "metadata": {},
     "output_type": "display_data"
    }
   ],
   "source": [
    "RENAME TABLE rookery.birds TO rookery.birds_old,\n",
    "test.birds_new TO rookery.birds;"
   ]
  },
  {
   "cell_type": "code",
   "execution_count": 59,
   "metadata": {},
   "outputs": [
    {
     "data": {
      "text/html": [
       "<TABLE BORDER=1><TR><TH>Tables_in_rookery (birds%)</TH></TR><TR><TD>birds</TD></TR><TR><TD>birds_details</TD></TR><TR><TD>birds_old</TD></TR></TABLE>"
      ]
     },
     "metadata": {},
     "output_type": "display_data"
    }
   ],
   "source": [
    "SHOW TABLES IN rookery LIKE 'birds%';"
   ]
  },
  {
   "cell_type": "code",
   "execution_count": 60,
   "metadata": {},
   "outputs": [
    {
     "data": {
      "text/html": []
     },
     "metadata": {},
     "output_type": "display_data"
    }
   ],
   "source": [
    "DROP TABLE birds_old;"
   ]
  },
  {
   "cell_type": "markdown",
   "metadata": {},
   "source": [
    "### Reordering a Table"
   ]
  },
  {
   "cell_type": "code",
   "execution_count": 61,
   "metadata": {},
   "outputs": [
    {
     "name": "stderr",
     "output_type": "stream",
     "text": [
      "ERROR 1146 (42S02): Table 'rookery.country_codes' doesn't exist\n"
     ]
    }
   ],
   "source": [
    "SELECT * FROM country_codes\n",
    "LIMIT 5;"
   ]
  },
  {
   "cell_type": "code",
   "execution_count": 62,
   "metadata": {},
   "outputs": [
    {
     "name": "stderr",
     "output_type": "stream",
     "text": [
      "ERROR 1146 (42S02): Table 'rookery.country_codes' doesn't exist\n"
     ]
    }
   ],
   "source": [
    "ALTER TABLE country_codes\n",
    "ORDER BY country_code;"
   ]
  },
  {
   "cell_type": "code",
   "execution_count": 63,
   "metadata": {},
   "outputs": [
    {
     "name": "stderr",
     "output_type": "stream",
     "text": [
      "ERROR 1146 (42S02): Table 'rookery.country_codes' doesn't exist\n"
     ]
    }
   ],
   "source": [
    "SELECT * FROM\n",
    "country_codes LIMIT 5;"
   ]
  },
  {
   "cell_type": "code",
   "execution_count": 64,
   "metadata": {},
   "outputs": [
    {
     "name": "stderr",
     "output_type": "stream",
     "text": [
      "ERROR 1146 (42S02): Table 'rookery.country_codes' doesn't exist\n"
     ]
    }
   ],
   "source": [
    "SELECT * FROM country_codes\n",
    "ORDER BY country_name\n",
    "LIMIT 5;"
   ]
  },
  {
   "cell_type": "markdown",
   "metadata": {},
   "source": [
    "### Indexes "
   ]
  },
  {
   "cell_type": "code",
   "execution_count": 65,
   "metadata": {},
   "outputs": [
    {
     "name": "stderr",
     "output_type": "stream",
     "text": [
      "ERROR 1068 (42000): Multiple primary key defined\n"
     ]
    }
   ],
   "source": [
    "ALTER TABLE conservation_status\n",
    "CHANGE status_id conservation_status_id INT AUTO_INCREMENT PRIMARY KEY;"
   ]
  },
  {
   "cell_type": "code",
   "execution_count": 66,
   "metadata": {},
   "outputs": [
    {
     "data": {
      "text/html": [
       "<TABLE BORDER=1><TR><TH>Table</TH><TH>Non_unique</TH><TH>Key_name</TH><TH>Seq_in_index</TH><TH>Column_name</TH><TH>Collation</TH><TH>Cardinality</TH><TH>Sub_part</TH><TH>Packed</TH><TH>Null</TH><TH>Index_type</TH><TH>Comment</TH><TH>Index_comment</TH></TR><TR><TD>humans</TD><TD>0</TD><TD>PRIMARY</TD><TD>1</TD><TD>human_id</TD><TD>A</TD><TD>0</TD><TD>NULL</TD><TD>NULL</TD><TD></TD><TD>BTREE</TD><TD></TD><TD></TD></TR></TABLE>"
      ]
     },
     "metadata": {},
     "output_type": "display_data"
    }
   ],
   "source": [
    "SHOW INDEX FROM birdwatchers.humans;"
   ]
  },
  {
   "cell_type": "code",
   "execution_count": 67,
   "metadata": {},
   "outputs": [
    {
     "data": {
      "text/html": [
       "<TABLE BORDER=1><TR><TH>id</TH><TH>select_type</TH><TH>table</TH><TH>type</TH><TH>possible_keys</TH><TH>key</TH><TH>key_len</TH><TH>ref</TH><TH>rows</TH><TH>Extra</TH></TR><TR><TD>1</TD><TD>SIMPLE</TD><TD>humans</TD><TD>ALL</TD><TD>NULL</TD><TD>NULL</TD><TD>NULL</TD><TD>NULL</TD><TD>1</TD><TD>Using where</TD></TR></TABLE>"
      ]
     },
     "metadata": {},
     "output_type": "display_data"
    }
   ],
   "source": [
    "EXPLAIN SELECT * FROM birdwatchers.humans\n",
    "WHERE name_last = 'Hollar';"
   ]
  },
  {
   "cell_type": "code",
   "execution_count": 68,
   "metadata": {},
   "outputs": [
    {
     "data": {
      "text/html": []
     },
     "metadata": {},
     "output_type": "display_data"
    }
   ],
   "source": [
    "ALTER TABLE birdwatchers.humans\n",
    "ADD INDEX human_names (name_last, name_first);"
   ]
  },
  {
   "cell_type": "code",
   "execution_count": 70,
   "metadata": {},
   "outputs": [
    {
     "data": {
      "text/html": [
       "<TABLE BORDER=1><TR><TH>Table</TH><TH>Create Table</TH></TR><TR><TD>humans</TD><TD>CREATE TABLE `humans` ("
      ]
     },
     "metadata": {},
     "output_type": "display_data"
    }
   ],
   "source": [
    "SHOW CREATE TABLE birdwatchers.humans;"
   ]
  },
  {
   "cell_type": "code",
   "execution_count": 71,
   "metadata": {},
   "outputs": [
    {
     "data": {
      "text/html": [
       "<TABLE BORDER=1><TR><TH>Table</TH><TH>Non_unique</TH><TH>Key_name</TH><TH>Seq_in_index</TH><TH>Column_name</TH><TH>Collation</TH><TH>Cardinality</TH><TH>Sub_part</TH><TH>Packed</TH><TH>Null</TH><TH>Index_type</TH><TH>Comment</TH><TH>Index_comment</TH></TR><TR><TD>humans</TD><TD>1</TD><TD>human_names</TD><TD>1</TD><TD>name_last</TD><TD>A</TD><TD>0</TD><TD>NULL</TD><TD>NULL</TD><TD>YES</TD><TD>BTREE</TD><TD></TD><TD></TD></TR><TR><TD>humans</TD><TD>1</TD><TD>human_names</TD><TD>2</TD><TD>name_first</TD><TD>A</TD><TD>0</TD><TD>NULL</TD><TD>NULL</TD><TD>YES</TD><TD>BTREE</TD><TD></TD><TD></TD></TR></TABLE>"
      ]
     },
     "metadata": {},
     "output_type": "display_data"
    }
   ],
   "source": [
    "SHOW INDEX FROM birdwatchers.humans\n",
    "WHERE Key_name = 'human_names';"
   ]
  },
  {
   "cell_type": "code",
   "execution_count": 72,
   "metadata": {},
   "outputs": [
    {
     "data": {
      "text/html": [
       "<TABLE BORDER=1><TR><TH>id</TH><TH>select_type</TH><TH>table</TH><TH>type</TH><TH>possible_keys</TH><TH>key</TH><TH>key_len</TH><TH>ref</TH><TH>rows</TH><TH>Extra</TH></TR><TR><TD>1</TD><TD>SIMPLE</TD><TD>humans</TD><TD>ref</TD><TD>human_names</TD><TD>human_names</TD><TD>103</TD><TD>const</TD><TD>1</TD><TD>Using index condition</TD></TR></TABLE>"
      ]
     },
     "metadata": {},
     "output_type": "display_data"
    }
   ],
   "source": [
    "EXPLAIN SELECT * FROM birdwatchers.humans\n",
    "WHERE name_last = 'Hollar';"
   ]
  },
  {
   "cell_type": "code",
   "execution_count": 73,
   "metadata": {},
   "outputs": [
    {
     "data": {
      "text/html": []
     },
     "metadata": {},
     "output_type": "display_data"
    }
   ],
   "source": [
    "ALTER TABLE conservation_status\n",
    "DROP PRIMARY KEY,\n",
    "CHANGE status_id conservation_status_id INT PRIMARY KEY AUTO_INCREMENT;"
   ]
  },
  {
   "cell_type": "markdown",
   "metadata": {},
   "source": [
    "### Summary"
   ]
  },
  {
   "cell_type": "markdown",
   "metadata": {},
   "source": [
    "Good planning is certainly key to developing an efficient database. However, as you can\n",
    "see from all of the examples of how to use the ALTER TABLE statement, MySQL is malleable\n",
    "enough that a database and its tables can be reshaped without much trouble. Just\n",
    "be sure to make a backup before restructuring a database, and work from a copy of a\n",
    "table before altering it. Check your work and the data when you’re finished, before\n",
    "committing the changes made.\n",
    "With all of this in mind, after having had some experience altering tables in this chapter,\n",
    "you should feel comfortable in creating tables, as you now know that they don’t have to\n",
    "be perfect from the beginning. You should also have a good sense of the options available\n",
    "with columns and how to set them. And you should have a basic understanding of\n",
    "indexes, how they’re used, and how they may be created and changed.\n",
    "If you have found this chapter confusing, though, it may be that you need more experience\n",
    "using tables with data. In the next part of this book, you will get plenty of experience\n",
    "working with tables, inserting data into columns, and changing the data. When\n",
    "you see how the data comes together, you’ll have a better understanding of how to\n",
    "structure a table and how to set columns in preparation for data. You’ll have a better\n",
    "appreciation of how multiple tables may be joined together to get the results you want."
   ]
  }
 ],
 "metadata": {
  "kernelspec": {
   "display_name": "MariaDB",
   "language": "SQL",
   "name": "mariadb_kernel"
  },
  "language_info": {
   "file_extension": ".sql",
   "mimetype": "text/plain",
   "name": "SQL"
  }
 },
 "nbformat": 4,
 "nbformat_minor": 4
}
